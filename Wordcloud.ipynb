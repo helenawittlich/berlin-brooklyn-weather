{
 "cells": [
  {
   "cell_type": "code",
   "execution_count": null,
   "id": "8f9404ae-2d7d-445d-ba1a-bd5dd1cd7171",
   "metadata": {},
   "outputs": [],
   "source": [
    "import pandas as pd\n",
    "import numpy as np\n",
    "from datetime import datetime\n",
    "from datetime import timedelta\n",
    "import os\n",
    "import json\n",
    "\n",
    "from os import path\n",
    "from wordcloud import WordCloud\n",
    "import matplotlib.pyplot as plt\n",
    "from collections import Counter\n",
    "from PIL import Image\n",
    "from wordcloud import WordCloud, STOPWORDS"
   ]
  },
  {
   "cell_type": "code",
   "execution_count": null,
   "id": "bbfcf1e8-1660-4756-a0d2-8b84b23837f4",
   "metadata": {},
   "outputs": [],
   "source": [
    "berlin = pd.read_csv('raw/wordcloud.csv', header=3)"
   ]
  },
  {
   "cell_type": "code",
   "execution_count": null,
   "id": "155b8412-7a44-4548-9252-185eb930fb41",
   "metadata": {},
   "outputs": [],
   "source": [
    "# rename columns\n",
    "\n",
    "(\n",
    "    berlin\n",
    "    .rename(\n",
    "        columns={\n",
    "            'time': 'day', \n",
    "            'weather_code (wmo code)' : 'weather_code',\n",
    "        }, \n",
    "        inplace=True\n",
    "    )\n",
    ")\n",
    "\n",
    "berlin = berlin.drop(['Unnamed: 2', 'Unnamed: 3', 'Unnamed: 4', 'Unnamed: 5'], axis=1)\n",
    "berlin.head()"
   ]
  },
  {
   "cell_type": "code",
   "execution_count": null,
   "id": "fcae4fca-21b9-42ec-9883-c2dfb51897d9",
   "metadata": {},
   "outputs": [],
   "source": [
    "# add weather code in words\n",
    "\n",
    "with open(\"raw/descriptions.json\") as f:\n",
    "    weather_dict = json.load(f)"
   ]
  },
  {
   "cell_type": "code",
   "execution_count": null,
   "id": "3c06e222-b2fd-4a35-a831-529894284ee8",
   "metadata": {},
   "outputs": [],
   "source": [
    "berlin['weather_code'] = berlin['weather_code'].astype(str)"
   ]
  },
  {
   "cell_type": "code",
   "execution_count": null,
   "id": "be29dc9a-defb-4cf4-9801-50e540c7bc09",
   "metadata": {},
   "outputs": [],
   "source": [
    "berlin['weather_description'] = berlin['weather_code'].map( lambda x: weather_dict.get(x, {}).get('day', {}).get('description', 'Unknown'))"
   ]
  },
  {
   "cell_type": "code",
   "execution_count": null,
   "id": "4028dbe5-af74-4fd4-a064-11e5c88cadcb",
   "metadata": {},
   "outputs": [],
   "source": [
    "#Trying a wordcloud for fun woth Chat GPT\n",
    "\n",
    "text_berlin = ', '.join(berlin['weather_description'].dropna().astype(str))\n",
    "# text_brooklyn = ', '.join(df['weather_description_berlin'].dropna().astype(str))\n",
    "\n",
    "# Step 1: Normalize the text\n",
    "words = text_berlin.split(',')                     # split at commas\n",
    "words = [w.strip().lower() for w in words]      # remove whitespace and lowercase\n",
    "\n",
    "# Step 2 (optional): inspect unique values\n",
    "unique_words = sorted(set(words))\n",
    "# print(unique_words)  # check if there are still duplicates like 'cloudy ' or 'cloudy\\n'\n",
    "\n",
    "# Step 3: Count frequencies\n",
    "word_counts = Counter(words)\n",
    "\n",
    "# Step 4: Generate word cloud\n",
    "wordcloud = WordCloud(\n",
    "    width=1000, height=500,\n",
    "    background_color='white'\n",
    ").generate_from_frequencies(word_counts)\n",
    "\n",
    "# Step 5: Display\n",
    "plt.figure(figsize=(12, 6))\n",
    "plt.imshow(wordcloud, interpolation='bilinear')\n",
    "plt.axis('off')\n",
    "plt.show()"
   ]
  },
  {
   "cell_type": "code",
   "execution_count": null,
   "id": "0b31f314-a5fd-4673-98f7-2d2f0bba8ba1",
   "metadata": {},
   "outputs": [],
   "source": [
    "# Load mask image\n",
    "cloud_mask = np.array(Image.open(\"images/Berlin_new.jpg\"))\n",
    "\n",
    "# Font path (adjust as needed for your system)\n",
    "font_path = \"/Library/Fonts/Roboto-Medium.ttf\"  # macOS example\n",
    "\n",
    "# Custom color function: yellow for \"sun\" words, violet-grey otherwise\n",
    "def sun_color_func(word, font_size, position, orientation, random_state=None, **kwargs):\n",
    "    if 'sun' in word.lower():\n",
    "        return \"#fdf464\"  # sunny yellow\n",
    "    else:\n",
    "        return \"#C3B3D3\"  # violet-grey\n",
    "\n",
    "# Create the word cloud\n",
    "wordcloud = WordCloud(\n",
    "    width=800,\n",
    "    height=400,\n",
    "    background_color='white',\n",
    "    mask=cloud_mask,\n",
    "    contour_color='black',\n",
    "    contour_width=1,\n",
    "    prefer_horizontal=0.4,\n",
    "    font_path=font_path,\n",
    "    min_font_size=5,\n",
    "    color_func=sun_color_func\n",
    ").generate_from_frequencies(word_counts)\n",
    "\n",
    "# Plot it\n",
    "plt.figure(figsize=(10, 6))\n",
    "plt.imshow(wordcloud, interpolation='bilinear')\n",
    "plt.axis('off')\n",
    "plt.show()\n",
    "\n",
    "\n",
    "svg_string = wordcloud.to_svg()\n",
    "\n",
    "with open(\"images/berlin_wordcloud.svg\", \"w\") as svg_file:\n",
    "    svg_file.write(svg_string)\n"
   ]
  },
  {
   "cell_type": "code",
   "execution_count": null,
   "id": "08e0b47d-1765-4d1f-9b1a-06228a5b24f5",
   "metadata": {},
   "outputs": [],
   "source": [
    "brooklyn = pd.read_csv('raw/wordcloud_brooklyn.csv', header=3)"
   ]
  },
  {
   "cell_type": "code",
   "execution_count": null,
   "id": "bf5e4b54-3304-449b-addc-eebc913439e6",
   "metadata": {},
   "outputs": [],
   "source": [
    "# rename columns\n",
    "\n",
    "(\n",
    "    brooklyn\n",
    "    .rename(\n",
    "        columns={\n",
    "            'time': 'day', \n",
    "            'weather_code (wmo code)' : 'weather_code',\n",
    "        }, \n",
    "        inplace=True\n",
    "    )\n",
    ")\n",
    "\n",
    "brooklyn.head()"
   ]
  },
  {
   "cell_type": "code",
   "execution_count": null,
   "id": "24c0d5cf-c097-4845-99b8-e1d5c8e9d294",
   "metadata": {},
   "outputs": [],
   "source": [
    "# add weather code in words\n",
    "\n",
    "with open(\"raw/descriptions.json\") as f:\n",
    "    weather_dict = json.load(f)"
   ]
  },
  {
   "cell_type": "code",
   "execution_count": null,
   "id": "c303744b-da47-49da-9818-740f82815334",
   "metadata": {},
   "outputs": [],
   "source": [
    "berlin['weather_code'] = berlin['weather_code'].astype(str)"
   ]
  },
  {
   "cell_type": "code",
   "execution_count": null,
   "id": "1fc49418-9a88-4bcb-b108-3e78fefdc150",
   "metadata": {},
   "outputs": [],
   "source": [
    "berlin['weather_description'] = berlin['weather_code'].map( lambda x: weather_dict.get(x, {}).get('day', {}).get('description', 'Unknown'))"
   ]
  },
  {
   "cell_type": "code",
   "execution_count": null,
   "id": "5334597e-6bac-43c8-bb43-21322b8bb3a2",
   "metadata": {},
   "outputs": [],
   "source": [
    "# Load mask image\n",
    "cloud_mask = np.array(Image.open(\"images/Brooklyn-final.png\").convert(\"L\"))\n",
    "\n",
    "# Font path (adjust as needed for your system)\n",
    "font_path = \"/Library/Fonts/Roboto-Medium.ttf\"  # macOS example\n",
    "\n",
    "# Custom color function: yellow for \"sun\" words, violet-grey otherwise\n",
    "def sun_color_func(word, font_size, position, orientation, random_state=None, **kwargs):\n",
    "    if 'sun' in word.lower():\n",
    "        return \"#fdf464\"  # sunny yellow\n",
    "    else:\n",
    "        return \"#C3B3D3\"  # violet-grey\n",
    "\n",
    "# Create the word cloud\n",
    "wordcloud = WordCloud(\n",
    "    width=1000,\n",
    "    height=800,\n",
    "    background_color='white',\n",
    "    # mask=cloud_mask,\n",
    "    contour_color='black',\n",
    "    contour_width=1,\n",
    "    prefer_horizontal=0.8,\n",
    "    font_path=font_path,\n",
    "    min_font_size=18,\n",
    "    color_func=sun_color_func\n",
    ").generate_from_frequencies(word_counts)\n",
    "\n",
    "# Plot it\n",
    "plt.figure(figsize=(10, 6))\n",
    "plt.imshow(wordcloud, interpolation='bilinear')\n",
    "plt.axis('off')\n",
    "plt.show()\n",
    "\n",
    "\n",
    "\n",
    "svg_string = wordcloud.to_svg()\n",
    "\n",
    "with open(\"images/brooklyn_wordcloud.svg\", \"w\") as svg_file:\n",
    "    svg_file.write(svg_string)"
   ]
  },
  {
   "cell_type": "code",
   "execution_count": null,
   "id": "a0dbef3a-5cf5-4ce1-a0be-d3ae764bee1c",
   "metadata": {},
   "outputs": [],
   "source": []
  },
  {
   "cell_type": "code",
   "execution_count": null,
   "id": "4dcd1112-af11-48a2-b928-21f65fbbb1cc",
   "metadata": {},
   "outputs": [],
   "source": []
  },
  {
   "cell_type": "code",
   "execution_count": null,
   "id": "155dfd01-e136-4df5-b8f3-5d5fa8766a98",
   "metadata": {},
   "outputs": [],
   "source": []
  },
  {
   "cell_type": "code",
   "execution_count": null,
   "id": "d4feac28-835d-4f1c-84e6-426e7fb29bc2",
   "metadata": {},
   "outputs": [],
   "source": []
  },
  {
   "cell_type": "code",
   "execution_count": null,
   "id": "dfbb7273-7661-4cef-bdeb-5a638edd3a3f",
   "metadata": {},
   "outputs": [],
   "source": []
  },
  {
   "cell_type": "code",
   "execution_count": null,
   "id": "5bf5ab07-303f-42cc-8833-c79617fe55e2",
   "metadata": {},
   "outputs": [],
   "source": []
  }
 ],
 "metadata": {
  "kernelspec": {
   "display_name": "Python 3 (ipykernel)",
   "language": "python",
   "name": "python3"
  },
  "language_info": {
   "codemirror_mode": {
    "name": "ipython",
    "version": 3
   },
   "file_extension": ".py",
   "mimetype": "text/x-python",
   "name": "python",
   "nbconvert_exporter": "python",
   "pygments_lexer": "ipython3",
   "version": "3.12.8"
  }
 },
 "nbformat": 4,
 "nbformat_minor": 5
}
