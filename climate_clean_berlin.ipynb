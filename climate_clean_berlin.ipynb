{
 "cells": [
  {
   "cell_type": "code",
   "execution_count": 1,
   "id": "f23a3eef-b0ae-4114-b963-03dd1f99b872",
   "metadata": {},
   "outputs": [],
   "source": [
    "import requests \n",
    "import datetime\n",
    "import pandas as pd\n",
    "import altair as alt\n",
    "import json\n",
    "\n",
    "\n",
    "from dotenv import load_dotenv\n",
    "import os"
   ]
  },
  {
   "cell_type": "code",
   "execution_count": 2,
   "id": "4b15f9ac-8f57-41a4-a77a-3106c865a652",
   "metadata": {},
   "outputs": [],
   "source": [
    "df = pd.read_csv('raw/ref_berlin.csv', header=2)"
   ]
  },
  {
   "cell_type": "code",
   "execution_count": 3,
   "id": "9b998298-1add-437c-a73f-49ffcbc0b12d",
   "metadata": {},
   "outputs": [],
   "source": [
    "# rename columns\n",
    "\n",
    "(\n",
    "    df\n",
    "    .rename(\n",
    "        columns={\n",
    "            'time': 'day', \n",
    "            'temperature_2m_mean (°C)' : 'temperature'\n",
    "        }, \n",
    "        inplace=True\n",
    "    )\n",
    ")"
   ]
  },
  {
   "cell_type": "code",
   "execution_count": 4,
   "id": "43d0642e-97b9-4fcd-bfc7-8bbb4fcaf4a9",
   "metadata": {},
   "outputs": [
    {
     "data": {
      "text/plain": [
       "day            datetime64[ns]\n",
       "temperature           float64\n",
       "dtype: object"
      ]
     },
     "execution_count": 4,
     "metadata": {},
     "output_type": "execute_result"
    }
   ],
   "source": [
    "# add month to data\n",
    "df['day'] = pd.to_datetime(df['day'])\n",
    "df.dtypes"
   ]
  },
  {
   "cell_type": "code",
   "execution_count": 5,
   "id": "161aa23e-fb0f-423f-999c-a8ab6babf930",
   "metadata": {},
   "outputs": [],
   "source": [
    "df['year'] = df['day'].dt.to_period('Y')\n",
    "df['month'] = df['day'].dt.month"
   ]
  },
  {
   "cell_type": "code",
   "execution_count": 6,
   "id": "2ddccd78-d8f2-4fe9-9243-c9c0442dad72",
   "metadata": {},
   "outputs": [],
   "source": [
    "# calculate ref period for every month from 1961-1990\n",
    "\n",
    "df.groupby('month')['temperature'].mean().to_csv('processed/ref_berlin.csv')"
   ]
  },
  {
   "cell_type": "code",
   "execution_count": 7,
   "id": "7d929eab-37d6-454f-8420-c5c4491f6eef",
   "metadata": {},
   "outputs": [],
   "source": [
    "# calculate ref period from 1961-1990 (year)\n",
    "\n",
    "ref = df.groupby('year')['temperature'].mean().to_frame()\n",
    "ref['ref'] = ref['temperature'].mean()\n",
    "ref.to_csv('processed/ref_period_berlin.csv')"
   ]
  },
  {
   "cell_type": "code",
   "execution_count": 8,
   "id": "f8a5f707-a5cf-48c5-b80d-2e5cb270775a",
   "metadata": {},
   "outputs": [],
   "source": [
    "# data from 2015 -2025\n",
    "\n",
    "df2 = pd.read_csv('raw/berlin_hist.csv', header=2)"
   ]
  },
  {
   "cell_type": "code",
   "execution_count": 9,
   "id": "a3301d90-c9e6-47f4-a407-531772abf1f1",
   "metadata": {},
   "outputs": [],
   "source": [
    "# rename columns\n",
    "\n",
    "(\n",
    "    df2\n",
    "    .rename(\n",
    "        columns={\n",
    "            'time': 'day', \n",
    "            'temperature_2m_mean (°C)' : 'temperature'\n",
    "        }, \n",
    "        inplace=True\n",
    "    )\n",
    ")"
   ]
  },
  {
   "cell_type": "code",
   "execution_count": 10,
   "id": "1c453bcf-b7f1-4198-b1a4-7b68a67ed91b",
   "metadata": {},
   "outputs": [
    {
     "data": {
      "text/plain": [
       "day            datetime64[ns]\n",
       "temperature           float64\n",
       "dtype: object"
      ]
     },
     "execution_count": 10,
     "metadata": {},
     "output_type": "execute_result"
    }
   ],
   "source": [
    "# add month to data\n",
    "df2['day'] = pd.to_datetime(df2['day'])\n",
    "df2.dtypes"
   ]
  },
  {
   "cell_type": "code",
   "execution_count": 11,
   "id": "189e6b93-ee37-41c3-b685-159822cce26c",
   "metadata": {},
   "outputs": [],
   "source": [
    "df2['year'] = df2['day'].dt.to_period('Y')\n",
    "df2['month_year'] = df2['day'].dt.to_period('M')"
   ]
  },
  {
   "cell_type": "code",
   "execution_count": 12,
   "id": "25467eb5-b566-4ef8-85a1-c2b488f2d04e",
   "metadata": {},
   "outputs": [],
   "source": [
    "df2.groupby('year')['temperature'].mean().to_csv('processed/aktuell_berlin.csv')"
   ]
  },
  {
   "cell_type": "code",
   "execution_count": null,
   "id": "1f741dce-c368-4f6e-8a10-9992da3eb2d3",
   "metadata": {},
   "outputs": [],
   "source": []
  }
 ],
 "metadata": {
  "kernelspec": {
   "display_name": "Python 3 (ipykernel)",
   "language": "python",
   "name": "python3"
  },
  "language_info": {
   "codemirror_mode": {
    "name": "ipython",
    "version": 3
   },
   "file_extension": ".py",
   "mimetype": "text/x-python",
   "name": "python",
   "nbconvert_exporter": "python",
   "pygments_lexer": "ipython3",
   "version": "3.12.8"
  }
 },
 "nbformat": 4,
 "nbformat_minor": 5
}
