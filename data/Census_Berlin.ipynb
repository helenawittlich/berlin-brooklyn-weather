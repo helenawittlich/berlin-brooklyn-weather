{
 "cells": [
  {
   "cell_type": "code",
   "execution_count": 28,
   "id": "fcb73e6c-6468-4dd1-a427-c1a54d1c544c",
   "metadata": {},
   "outputs": [],
   "source": [
    "import requests\n",
    "import pandas as pd\n",
    "import logging\n",
    "\n",
    "from pystatis import Find\n",
    "from pystatis import Table\n",
    "\n",
    "logging.basicConfig(level=logging.INFO)"
   ]
  },
  {
   "cell_type": "code",
   "execution_count": 5,
   "id": "fed7a521-c7f8-4fee-94aa-1ee542a09320",
   "metadata": {},
   "outputs": [],
   "source": [
    "results = Find(\"Berlin\", db_name=\"zensus\")"
   ]
  },
  {
   "cell_type": "code",
   "execution_count": 9,
   "id": "082a8ad0-6cf3-4401-b206-21f3e0b8d3fb",
   "metadata": {},
   "outputs": [
    {
     "name": "stderr",
     "output_type": "stream",
     "text": [
      "INFO:pystatis.http_helper:Code 0: erfolgreich\n",
      "INFO:pystatis.http_helper:Code 0: erfolgreich\n",
      "INFO:pystatis.http_helper:Code 0: erfolgreich\n",
      "INFO:pystatis.http_helper:Code 0: erfolgreich\n"
     ]
    },
    {
     "name": "stdout",
     "output_type": "stream",
     "text": [
      "##### Results #####\n",
      "----------------------------------------\n",
      "# Number of tables: 100\n",
      "# Preview:\n",
      "|    | Code       | Content                                           | Time   |\n",
      "|---:|:-----------|:--------------------------------------------------|:-------|\n",
      "|  0 | 1000A-0000 | Personen: Bevölkerungszahl                        |        |\n",
      "|  1 | 1000A-0001 | Personen: Bevölkerungszahl und Fläche (Gemeinden) |        |\n",
      "|  2 | 1000A-1001 | Personen: Alter (10er-Jahresgruppen)              |        |\n",
      "|  3 | 1000A-1002 | Personen: Alter (11 Altersklassen)                |        |\n",
      "|  4 | 1000A-1003 | Personen: Alter (5 Altersklassen)                 |        |\n",
      "----------------------------------------\n",
      "# Number of statistics: 12\n",
      "# Preview:\n",
      "|    | Code   | Content                                            |   Cubes | Information   |\n",
      "|---:|:-------|:---------------------------------------------------|--------:|:--------------|\n",
      "|  0 | 1000A  | Bevölkerung kompakt (Gebietsstand 15.05.2022)      |      90 | true          |\n",
      "|  1 | 1000X  | Bevölkerung kompakt (Gebietsstand 09.05.2011)      |      10 | true          |\n",
      "|  2 | 2000S  | Bevölkerung: Bildung, Erwerb (Stand 15.05.2022)    |      50 | true          |\n",
      "|  3 | 2000X  | Bev: Bildung, Erwerb, Migration (Stand 09.05.2011) |   12787 | true          |\n",
      "|  4 | 3000G  | Gebäude (Gebietsstand 15.05.2022)                  |      20 | true          |\n",
      "----------------------------------------\n",
      "# Number of variables: 20\n",
      "# Preview:\n",
      "|    | Code   | Content                            | Type     |   Values | Information   |\n",
      "|---:|:-------|:-----------------------------------|:---------|---------:|:--------------|\n",
      "|  0 | GEOBL1 | Bundesländer                       | räumlich |       16 | true          |\n",
      "|  1 | GEOBL3 | Bundesländer                       | räumlich |       16 | true          |\n",
      "|  2 | GEOBZ1 | Bezirke (Hamburg und Berlin)       | räumlich |       19 | false         |\n",
      "|  3 | GEOEV1 | Landeskirche (Evangelische Kirche) | räumlich |       19 | true          |\n",
      "|  4 | GEOEV2 | Kirchenkreis (Evangelische Kirche) | räumlich |      489 | true          |\n",
      "----------------------------------------\n",
      "# Number of cubes: 0\n",
      "# Preview:\n",
      "\n",
      "----------------------------------------\n",
      "# Use object.tables, object.statistics, object.variables or object.cubes to get all results.\n",
      "----------------------------------------\n"
     ]
    }
   ],
   "source": [
    "results.run()"
   ]
  },
  {
   "cell_type": "code",
   "execution_count": 37,
   "id": "df8e4c05-feeb-4a15-ac83-9def6bfbce3e",
   "metadata": {},
   "outputs": [
    {
     "data": {
      "text/html": [
       "<div>\n",
       "<style scoped>\n",
       "    .dataframe tbody tr th:only-of-type {\n",
       "        vertical-align: middle;\n",
       "    }\n",
       "\n",
       "    .dataframe tbody tr th {\n",
       "        vertical-align: top;\n",
       "    }\n",
       "\n",
       "    .dataframe thead th {\n",
       "        text-align: right;\n",
       "    }\n",
       "</style>\n",
       "<table border=\"1\" class=\"dataframe\">\n",
       "  <thead>\n",
       "    <tr style=\"text-align: right;\">\n",
       "      <th></th>\n",
       "      <th>Code</th>\n",
       "      <th>Content</th>\n",
       "      <th>Time</th>\n",
       "    </tr>\n",
       "  </thead>\n",
       "  <tbody>\n",
       "    <tr>\n",
       "      <th>0</th>\n",
       "      <td>1000A-0000</td>\n",
       "      <td>Personen: Bevölkerungszahl</td>\n",
       "      <td></td>\n",
       "    </tr>\n",
       "    <tr>\n",
       "      <th>1</th>\n",
       "      <td>1000A-0001</td>\n",
       "      <td>Personen: Bevölkerungszahl und Fläche (Gemeinden)</td>\n",
       "      <td></td>\n",
       "    </tr>\n",
       "    <tr>\n",
       "      <th>2</th>\n",
       "      <td>1000A-1001</td>\n",
       "      <td>Personen: Alter (10er-Jahresgruppen)</td>\n",
       "      <td></td>\n",
       "    </tr>\n",
       "    <tr>\n",
       "      <th>3</th>\n",
       "      <td>1000A-1002</td>\n",
       "      <td>Personen: Alter (11 Altersklassen)</td>\n",
       "      <td></td>\n",
       "    </tr>\n",
       "    <tr>\n",
       "      <th>4</th>\n",
       "      <td>1000A-1003</td>\n",
       "      <td>Personen: Alter (5 Altersklassen)</td>\n",
       "      <td></td>\n",
       "    </tr>\n",
       "    <tr>\n",
       "      <th>...</th>\n",
       "      <td>...</td>\n",
       "      <td>...</td>\n",
       "      <td>...</td>\n",
       "    </tr>\n",
       "    <tr>\n",
       "      <th>95</th>\n",
       "      <td>1000A-2026</td>\n",
       "      <td>Personen: Geschlecht - Alter (10er-Jahresgruppen)/Alter (11 Altersklassen)/Alter (5 Altersklassen)/Alter (5er-Jahresgruppen)/Alter (Infrastrukt. Altersgruppen)</td>\n",
       "      <td></td>\n",
       "    </tr>\n",
       "    <tr>\n",
       "      <th>96</th>\n",
       "      <td>1000A-2027</td>\n",
       "      <td>Personen: Geschlecht - Alter (Jahresschritte)</td>\n",
       "      <td></td>\n",
       "    </tr>\n",
       "    <tr>\n",
       "      <th>97</th>\n",
       "      <td>1000A-2028</td>\n",
       "      <td>Personen: Geschlecht - Familienstand/Familienstand(ausführlich)/Religion</td>\n",
       "      <td></td>\n",
       "    </tr>\n",
       "    <tr>\n",
       "      <th>98</th>\n",
       "      <td>1000A-2029</td>\n",
       "      <td>Personen: Geschlecht - Geburtsland (Gruppen)/Geburtsländer</td>\n",
       "      <td></td>\n",
       "    </tr>\n",
       "    <tr>\n",
       "      <th>99</th>\n",
       "      <td>1000A-2030</td>\n",
       "      <td>Personen: Geschlecht - Geburtsland (Häufigste Länder)</td>\n",
       "      <td></td>\n",
       "    </tr>\n",
       "  </tbody>\n",
       "</table>\n",
       "<p>100 rows × 3 columns</p>\n",
       "</div>"
      ],
      "text/plain": [
       "          Code                                                                                                                                                          Content Time\n",
       "0   1000A-0000                                                                                                                                       Personen: Bevölkerungszahl     \n",
       "1   1000A-0001                                                                                                                Personen: Bevölkerungszahl und Fläche (Gemeinden)     \n",
       "2   1000A-1001                                                                                                                             Personen: Alter (10er-Jahresgruppen)     \n",
       "3   1000A-1002                                                                                                                               Personen: Alter (11 Altersklassen)     \n",
       "4   1000A-1003                                                                                                                                Personen: Alter (5 Altersklassen)     \n",
       "..         ...                                                                                                                                                              ...  ...\n",
       "95  1000A-2026  Personen: Geschlecht - Alter (10er-Jahresgruppen)/Alter (11 Altersklassen)/Alter (5 Altersklassen)/Alter (5er-Jahresgruppen)/Alter (Infrastrukt. Altersgruppen)     \n",
       "96  1000A-2027                                                                                                                    Personen: Geschlecht - Alter (Jahresschritte)     \n",
       "97  1000A-2028                                                                                         Personen: Geschlecht - Familienstand/Familienstand(ausführlich)/Religion     \n",
       "98  1000A-2029                                                                                                       Personen: Geschlecht - Geburtsland (Gruppen)/Geburtsländer     \n",
       "99  1000A-2030                                                                                                            Personen: Geschlecht - Geburtsland (Häufigste Länder)     \n",
       "\n",
       "[100 rows x 3 columns]"
      ]
     },
     "execution_count": 37,
     "metadata": {},
     "output_type": "execute_result"
    }
   ],
   "source": [
    "results.tables.df"
   ]
  },
  {
   "cell_type": "code",
   "execution_count": 29,
   "id": "25cc9c1e-ba47-4db2-b0bf-7d7376d6db47",
   "metadata": {},
   "outputs": [],
   "source": [
    "t = Table(name=\"1000A-2029\")"
   ]
  },
  {
   "cell_type": "code",
   "execution_count": 31,
   "id": "92f6c4a5-af72-4e91-82a8-7166bf2f83bb",
   "metadata": {},
   "outputs": [
    {
     "name": "stderr",
     "output_type": "stream",
     "text": [
      "INFO:pystatis.cache:Data was successfully cached under /Users/helenawittlich/.pystatis/data/1000A-2029/bf3cc76ffa5b75b83130/20250617.zip.\n",
      "INFO:pystatis.http_helper:Database selected: zensus\n",
      "INFO:pystatis.http_helper:Code 0: erfolgreich\n"
     ]
    }
   ],
   "source": [
    "t.get_data()"
   ]
  },
  {
   "cell_type": "code",
   "execution_count": 32,
   "id": "60e5e3bc-0681-4130-8226-60587ce0c39b",
   "metadata": {},
   "outputs": [
    {
     "data": {
      "text/html": [
       "<div>\n",
       "<style scoped>\n",
       "    .dataframe tbody tr th:only-of-type {\n",
       "        vertical-align: middle;\n",
       "    }\n",
       "\n",
       "    .dataframe tbody tr th {\n",
       "        vertical-align: top;\n",
       "    }\n",
       "\n",
       "    .dataframe thead th {\n",
       "        text-align: right;\n",
       "    }\n",
       "</style>\n",
       "<table border=\"1\" class=\"dataframe\">\n",
       "  <thead>\n",
       "    <tr style=\"text-align: right;\">\n",
       "      <th></th>\n",
       "      <th>Stichtag</th>\n",
       "      <th>Amtlicher Regionalschlüssel (ARS)__Code</th>\n",
       "      <th>Amtlicher Regionalschlüssel (ARS)</th>\n",
       "      <th>Geschlecht</th>\n",
       "      <th>Geburtsland (Gruppen)</th>\n",
       "      <th>Personen__Anzahl</th>\n",
       "    </tr>\n",
       "  </thead>\n",
       "  <tbody>\n",
       "    <tr>\n",
       "      <th>0</th>\n",
       "      <td>2022-05-15</td>\n",
       "      <td>01</td>\n",
       "      <td>Schleswig-Holstein</td>\n",
       "      <td>Insgesamt</td>\n",
       "      <td>Insgesamt</td>\n",
       "      <td>2927542</td>\n",
       "    </tr>\n",
       "    <tr>\n",
       "      <th>1</th>\n",
       "      <td>2022-05-15</td>\n",
       "      <td>01</td>\n",
       "      <td>Schleswig-Holstein</td>\n",
       "      <td>Insgesamt</td>\n",
       "      <td>Ausland und Sonstige</td>\n",
       "      <td>408796</td>\n",
       "    </tr>\n",
       "    <tr>\n",
       "      <th>2</th>\n",
       "      <td>2022-05-15</td>\n",
       "      <td>01</td>\n",
       "      <td>Schleswig-Holstein</td>\n",
       "      <td>Insgesamt</td>\n",
       "      <td>Deutschland</td>\n",
       "      <td>2518740</td>\n",
       "    </tr>\n",
       "    <tr>\n",
       "      <th>3</th>\n",
       "      <td>2022-05-15</td>\n",
       "      <td>01</td>\n",
       "      <td>Schleswig-Holstein</td>\n",
       "      <td>Insgesamt</td>\n",
       "      <td>EU27-Land (EU_2020)</td>\n",
       "      <td>133778</td>\n",
       "    </tr>\n",
       "    <tr>\n",
       "      <th>4</th>\n",
       "      <td>2022-05-15</td>\n",
       "      <td>01</td>\n",
       "      <td>Schleswig-Holstein</td>\n",
       "      <td>Insgesamt</td>\n",
       "      <td>Sonstiges Europa</td>\n",
       "      <td>109172</td>\n",
       "    </tr>\n",
       "  </tbody>\n",
       "</table>\n",
       "</div>"
      ],
      "text/plain": [
       "    Stichtag Amtlicher Regionalschlüssel (ARS)__Code Amtlicher Regionalschlüssel (ARS) Geschlecht Geburtsland (Gruppen)  Personen__Anzahl\n",
       "0 2022-05-15                                      01                Schleswig-Holstein  Insgesamt             Insgesamt           2927542\n",
       "1 2022-05-15                                      01                Schleswig-Holstein  Insgesamt  Ausland und Sonstige            408796\n",
       "2 2022-05-15                                      01                Schleswig-Holstein  Insgesamt           Deutschland           2518740\n",
       "3 2022-05-15                                      01                Schleswig-Holstein  Insgesamt   EU27-Land (EU_2020)            133778\n",
       "4 2022-05-15                                      01                Schleswig-Holstein  Insgesamt      Sonstiges Europa            109172"
      ]
     },
     "execution_count": 32,
     "metadata": {},
     "output_type": "execute_result"
    }
   ],
   "source": [
    "t.data.head()"
   ]
  },
  {
   "cell_type": "code",
   "execution_count": 35,
   "id": "eb455134-c6f7-4ada-a2fb-b1aaa2d0494b",
   "metadata": {},
   "outputs": [],
   "source": [
    "df = t.data"
   ]
  },
  {
   "cell_type": "code",
   "execution_count": 40,
   "id": "59d6cc13-4573-40aa-a406-9fcc6e1f1c67",
   "metadata": {},
   "outputs": [
    {
     "data": {
      "text/plain": [
       "Index(['Stichtag', 'Amtlicher Regionalschlüssel (ARS)__Code',\n",
       "       'Amtlicher Regionalschlüssel (ARS)', 'Geschlecht',\n",
       "       'Geburtsland (Gruppen)', 'Personen__Anzahl'],\n",
       "      dtype='object')"
      ]
     },
     "execution_count": 40,
     "metadata": {},
     "output_type": "execute_result"
    }
   ],
   "source": [
    "df.columns"
   ]
  },
  {
   "cell_type": "code",
   "execution_count": 44,
   "id": "4ab84402-547b-479b-98fc-ef7cecdf40ff",
   "metadata": {},
   "outputs": [
    {
     "ename": "SyntaxError",
     "evalue": "incomplete input (2815846466.py, line 1)",
     "output_type": "error",
     "traceback": [
      "  \u001b[36mCell\u001b[39m\u001b[36m \u001b[39m\u001b[32mIn[44]\u001b[39m\u001b[32m, line 1\u001b[39m\n\u001b[31m    \u001b[39m\u001b[31mdf[['Amtlicher Regionalschlüssel (ARS)'].value_counts\u001b[39m\n                                                         ^\n\u001b[31mSyntaxError\u001b[39m\u001b[31m:\u001b[39m incomplete input\n"
     ]
    }
   ],
   "source": [
    "df[['Amtlicher Regionalschlüssel (ARS)'].value_"
   ]
  },
  {
   "cell_type": "code",
   "execution_count": 45,
   "id": "0c01ca1a-78a7-4433-8023-c4c4f229efc4",
   "metadata": {},
   "outputs": [
    {
     "data": {
      "text/plain": [
       "<bound method NDFrame.describe of       Stichtag Amtlicher Regionalschlüssel (ARS)__Code Amtlicher Regionalschlüssel (ARS) Geschlecht Geburtsland (Gruppen)  Personen__Anzahl\n",
       "0   2022-05-15                                      01                Schleswig-Holstein  Insgesamt             Insgesamt           2927542\n",
       "1   2022-05-15                                      01                Schleswig-Holstein  Insgesamt  Ausland und Sonstige            408796\n",
       "2   2022-05-15                                      01                Schleswig-Holstein  Insgesamt           Deutschland           2518740\n",
       "3   2022-05-15                                      01                Schleswig-Holstein  Insgesamt   EU27-Land (EU_2020)            133778\n",
       "4   2022-05-15                                      01                Schleswig-Holstein  Insgesamt      Sonstiges Europa            109172\n",
       "..         ...                                     ...                               ...        ...                   ...               ...\n",
       "403 2022-05-15                                      DG                       Deutschland   Weiblich   EU27-Land (EU_2020)           2877300\n",
       "404 2022-05-15                                      DG                       Deutschland   Weiblich      Sonstiges Europa           2474904\n",
       "405 2022-05-15                                      DG                       Deutschland   Weiblich              Sonstige             97480\n",
       "406 2022-05-15                                      DG                       Deutschland   Weiblich         Sonstige Welt           2385351\n",
       "407 2022-05-15                                      DG                       Deutschland   Weiblich           Deutschland          34210469\n",
       "\n",
       "[408 rows x 6 columns]>"
      ]
     },
     "execution_count": 45,
     "metadata": {},
     "output_type": "execute_result"
    }
   ],
   "source": [
    "df.describe"
   ]
  }
 ],
 "metadata": {
  "kernelspec": {
   "display_name": "Python 3 (ipykernel)",
   "language": "python",
   "name": "python3"
  },
  "language_info": {
   "codemirror_mode": {
    "name": "ipython",
    "version": 3
   },
   "file_extension": ".py",
   "mimetype": "text/x-python",
   "name": "python",
   "nbconvert_exporter": "python",
   "pygments_lexer": "ipython3",
   "version": "3.12.8"
  }
 },
 "nbformat": 4,
 "nbformat_minor": 5
}
