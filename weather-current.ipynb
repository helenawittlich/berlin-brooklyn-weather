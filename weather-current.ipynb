{
 "cells": [
  {
   "cell_type": "code",
   "execution_count": 33,
   "id": "1cdf2d2c-ff3e-43b0-bf6b-28fb518447cb",
   "metadata": {},
   "outputs": [],
   "source": [
    "import requests \n",
    "import datetime\n",
    "import pandas as pd\n",
    "import json"
   ]
  },
  {
   "cell_type": "code",
   "execution_count": 34,
   "id": "64c902c3-3cbf-4f65-82d2-feb0294afcf3",
   "metadata": {},
   "outputs": [],
   "source": [
    "response = requests.get('https://api.open-meteo.com/v1/forecast?latitude=52.52&longitude=13.41&current=temperature_2m,weather_code&timezone=auto&forecast_days=1')\n",
    "berlin = response.json()\n",
    "\n",
    "response = requests.get('https://api.open-meteo.com/v1/forecast?latitude=40.6501&longitude=-73.9496&current=temperature_2m,weather_code&timezone=auto&forecast_days=1')\n",
    "brooklyn = response.json()"
   ]
  },
  {
   "cell_type": "code",
   "execution_count": 35,
   "id": "6660e19e-5a2b-49d4-9752-86a51fde7149",
   "metadata": {},
   "outputs": [],
   "source": [
    "berlin_temp = berlin['current']['temperature_2m']"
   ]
  },
  {
   "cell_type": "code",
   "execution_count": 36,
   "id": "4fec2174-1c15-4c9f-b73a-98975afb0529",
   "metadata": {},
   "outputs": [],
   "source": [
    "brooklyn_temp = brooklyn['current']['temperature_2m']"
   ]
  },
  {
   "cell_type": "code",
   "execution_count": 37,
   "id": "292b3431-674d-4c7c-a77c-3f95646c0e0e",
   "metadata": {},
   "outputs": [],
   "source": [
    "berlin_code = str(berlin['current']['weather_code'])"
   ]
  },
  {
   "cell_type": "code",
   "execution_count": 38,
   "id": "ce780432-ecbf-4f49-8c21-3656242e3276",
   "metadata": {},
   "outputs": [],
   "source": [
    "brooklyn_code = str(brooklyn['current']['weather_code'])"
   ]
  },
  {
   "cell_type": "code",
   "execution_count": 39,
   "id": "e52c81c9-1d9e-4acf-848a-6881f6e4870f",
   "metadata": {},
   "outputs": [],
   "source": [
    "# add weather code in words\n",
    "\n",
    "with open(\"raw/descriptions.json\") as f:\n",
    "    weather_dict = json.load(f)"
   ]
  },
  {
   "cell_type": "code",
   "execution_count": 40,
   "id": "379a8902-01b0-4dbd-972b-4f762fe409ec",
   "metadata": {},
   "outputs": [
    {
     "data": {
      "text/plain": [
       "'Sunny'"
      ]
     },
     "execution_count": 40,
     "metadata": {},
     "output_type": "execute_result"
    }
   ],
   "source": [
    "description_berlin = weather_dict.get(berlin_code, {}).get('day', {}).get('description', 'Unknown')\n",
    "description_brooklyn = weather_dict.get(brooklyn_code, {}).get('day', {}).get('description', 'Unknown')\n",
    "description_berlin"
   ]
  },
  {
   "cell_type": "code",
   "execution_count": 41,
   "id": "4c00a63f-2e5b-4dee-9c34-394180c39b0f",
   "metadata": {},
   "outputs": [],
   "source": [
    "icon_berlin = weather_dict.get(berlin_code, {}).get('day', {}).get('image', 'Unknown')\n",
    "icon_brooklyn = weather_dict.get(brooklyn_code, {}).get('day', {}).get('image', 'Unknown')"
   ]
  },
  {
   "cell_type": "code",
   "execution_count": 42,
   "id": "85311d70-f385-451d-a665-69837ea6b48a",
   "metadata": {},
   "outputs": [],
   "source": [
    "text_berlin1 = f'<strong>{description_berlin}</strong>.'\n",
    "text_berlin2 = f'<span style=\"font-size:50px;\">![]({icon_berlin})</span>'\n",
    "text_berlin3 = f'The Temperature is <strong>{berlin_temp}<strong> degree Celcius.'"
   ]
  },
  {
   "cell_type": "code",
   "execution_count": 45,
   "id": "959bb4da-d728-43b9-9f77-6eef153bc51e",
   "metadata": {},
   "outputs": [
    {
     "data": {
      "text/plain": [
       "'<strong>Sunny</strong>.'"
      ]
     },
     "execution_count": 45,
     "metadata": {},
     "output_type": "execute_result"
    }
   ],
   "source": [
    "text_brooklyn1 = f'<strong>{description_brooklyn}</strong>.'\n",
    "text_brooklyn2 = f'<span style=\"font-size:50px;\">![]({icon_brooklyn})</span>'\n",
    "text_brooklyn3 = f'The Temperature is <strong>{brooklyn_temp}<strong> degree Celcius.'"
   ]
  },
  {
   "cell_type": "code",
   "execution_count": 44,
   "id": "d90aa547-6e5b-4b18-9261-823f10968cad",
   "metadata": {},
   "outputs": [
    {
     "data": {
      "text/html": [
       "<div>\n",
       "<style scoped>\n",
       "    .dataframe tbody tr th:only-of-type {\n",
       "        vertical-align: middle;\n",
       "    }\n",
       "\n",
       "    .dataframe tbody tr th {\n",
       "        vertical-align: top;\n",
       "    }\n",
       "\n",
       "    .dataframe thead th {\n",
       "        text-align: right;\n",
       "    }\n",
       "</style>\n",
       "<table border=\"1\" class=\"dataframe\">\n",
       "  <thead>\n",
       "    <tr style=\"text-align: right;\">\n",
       "      <th></th>\n",
       "      <th>Field</th>\n",
       "      <th>Berlin</th>\n",
       "      <th>Brooklyn</th>\n",
       "    </tr>\n",
       "  </thead>\n",
       "  <tbody>\n",
       "    <tr>\n",
       "      <th>0</th>\n",
       "      <td>image</td>\n",
       "      <td>&lt;span style=\"font-size:50px;\"&gt;![](http://openw...</td>\n",
       "      <td>&lt;span style=\"font-size:50px;\"&gt;![](http://openw...</td>\n",
       "    </tr>\n",
       "    <tr>\n",
       "      <th>1</th>\n",
       "      <td>Temperatur</td>\n",
       "      <td>The Temperature is &lt;strong&gt;17.1&lt;strong&gt; degree...</td>\n",
       "      <td>The Temperature is &lt;strong&gt;32.1&lt;strong&gt; degree...</td>\n",
       "    </tr>\n",
       "  </tbody>\n",
       "</table>\n",
       "</div>"
      ],
      "text/plain": [
       "        Field                                             Berlin  \\\n",
       "0       image  <span style=\"font-size:50px;\">![](http://openw...   \n",
       "1  Temperatur  The Temperature is <strong>17.1<strong> degree...   \n",
       "\n",
       "                                            Brooklyn  \n",
       "0  <span style=\"font-size:50px;\">![](http://openw...  \n",
       "1  The Temperature is <strong>32.1<strong> degree...  "
      ]
     },
     "execution_count": 44,
     "metadata": {},
     "output_type": "execute_result"
    }
   ],
   "source": [
    "# turn dictionary into dataframe\n",
    "data = {\n",
    "    'Field': ['image', 'Temperatur'],\n",
    "    'Berlin': [text_berlin2, text_berlin3],\n",
    "    'Brooklyn': [text_brooklyn2, text_brooklyn3]\n",
    "}\n",
    "\n",
    "df = pd.DataFrame(data)\n",
    "df"
   ]
  },
  {
   "cell_type": "code",
   "execution_count": 29,
   "id": "77ab535b-53c7-4be0-bd10-ef4973ffb445",
   "metadata": {},
   "outputs": [],
   "source": [
    "df.to_csv('processed/current.csv', index=False)"
   ]
  },
  {
   "cell_type": "code",
   "execution_count": 32,
   "id": "422ce79d-e4cf-41f8-b4b9-4cb3507dda27",
   "metadata": {},
   "outputs": [
    {
     "data": {
      "text/html": [
       "<div>\n",
       "<style scoped>\n",
       "    .dataframe tbody tr th:only-of-type {\n",
       "        vertical-align: middle;\n",
       "    }\n",
       "\n",
       "    .dataframe tbody tr th {\n",
       "        vertical-align: top;\n",
       "    }\n",
       "\n",
       "    .dataframe thead th {\n",
       "        text-align: right;\n",
       "    }\n",
       "</style>\n",
       "<table border=\"1\" class=\"dataframe\">\n",
       "  <thead>\n",
       "    <tr style=\"text-align: right;\">\n",
       "      <th></th>\n",
       "      <th>Field</th>\n",
       "      <th>Berlin</th>\n",
       "      <th>Brooklyn</th>\n",
       "    </tr>\n",
       "  </thead>\n",
       "  <tbody>\n",
       "    <tr>\n",
       "      <th>0</th>\n",
       "      <td>image</td>\n",
       "      <td>&lt;span style=\"font-size:50px;\"&gt;![](http://openw...</td>\n",
       "      <td>&lt;span style=\"font-size:50px;\"&gt;![](http://openw...</td>\n",
       "    </tr>\n",
       "    <tr>\n",
       "      <th>1</th>\n",
       "      <td>Temperatur</td>\n",
       "      <td>The Temperature is &lt;strong&gt;17.5&lt;strong&gt; degree...</td>\n",
       "      <td>The Temperature is &lt;strong&gt;31.7&lt;strong&gt; degree...</td>\n",
       "    </tr>\n",
       "  </tbody>\n",
       "</table>\n",
       "</div>"
      ],
      "text/plain": [
       "        Field                                             Berlin  \\\n",
       "0       image  <span style=\"font-size:50px;\">![](http://openw...   \n",
       "1  Temperatur  The Temperature is <strong>17.5<strong> degree...   \n",
       "\n",
       "                                            Brooklyn  \n",
       "0  <span style=\"font-size:50px;\">![](http://openw...  \n",
       "1  The Temperature is <strong>31.7<strong> degree...  "
      ]
     },
     "execution_count": 32,
     "metadata": {},
     "output_type": "execute_result"
    }
   ],
   "source": [
    "df"
   ]
  },
  {
   "cell_type": "code",
   "execution_count": null,
   "id": "7a3c3ecd-cd2a-4edc-b78f-39732902470e",
   "metadata": {},
   "outputs": [],
   "source": []
  },
  {
   "cell_type": "code",
   "execution_count": null,
   "id": "7032c8a5-5e48-40d7-ab56-07787a09bcd9",
   "metadata": {},
   "outputs": [],
   "source": []
  },
  {
   "cell_type": "code",
   "execution_count": null,
   "id": "d2b406f6-943c-4181-bd33-167254dc736c",
   "metadata": {},
   "outputs": [],
   "source": []
  },
  {
   "cell_type": "code",
   "execution_count": null,
   "id": "e2f6f1f9-b57a-4dac-a0de-b69a86c718c6",
   "metadata": {},
   "outputs": [],
   "source": []
  }
 ],
 "metadata": {
  "kernelspec": {
   "display_name": "Python 3 (ipykernel)",
   "language": "python",
   "name": "python3"
  },
  "language_info": {
   "codemirror_mode": {
    "name": "ipython",
    "version": 3
   },
   "file_extension": ".py",
   "mimetype": "text/x-python",
   "name": "python",
   "nbconvert_exporter": "python",
   "pygments_lexer": "ipython3",
   "version": "3.12.8"
  }
 },
 "nbformat": 4,
 "nbformat_minor": 5
}
