{
 "cells": [
  {
   "cell_type": "code",
   "execution_count": null,
   "id": "1cdf2d2c-ff3e-43b0-bf6b-28fb518447cb",
   "metadata": {},
   "outputs": [],
   "source": [
    "import requests \n",
    "import datetime\n",
    "import pandas as pd\n",
    "import json\n",
    "\n",
    "\n",
    "from dotenv import load_dotenv\n",
    "import os\n",
    "\n",
    "load_dotenv()\n",
    "\n"
   ]
  },
  {
   "cell_type": "code",
   "execution_count": null,
   "id": "64c902c3-3cbf-4f65-82d2-feb0294afcf3",
   "metadata": {},
   "outputs": [],
   "source": [
    "api_key=os.getenv(\"WEATHERAPI_APIKEY\")\n",
    "\n",
    "\n",
    "response = requests.get('https://api.open-meteo.com/v1/forecast?latitude=52.52&longitude=13.41&current=temperature_2m,weather_code&timezone=auto&forecast_days=1')\n",
    "berlin = response.json()\n",
    "\n",
    "response = requests.get('https://api.open-meteo.com/v1/forecast?latitude=40.6501&longitude=-73.9496&current=temperature_2m,weather_code&timezone=auto&forecast_days=1')\n",
    "brooklyn = response.json()"
   ]
  },
  {
   "cell_type": "code",
   "execution_count": null,
   "id": "6660e19e-5a2b-49d4-9752-86a51fde7149",
   "metadata": {},
   "outputs": [],
   "source": [
    "berlin_temp = berlin['current']['temperature_2m']"
   ]
  },
  {
   "cell_type": "code",
   "execution_count": null,
   "id": "4fec2174-1c15-4c9f-b73a-98975afb0529",
   "metadata": {},
   "outputs": [],
   "source": [
    "brooklyn_temp = brooklyn['current']['temperature_2m']"
   ]
  },
  {
   "cell_type": "code",
   "execution_count": null,
   "id": "292b3431-674d-4c7c-a77c-3f95646c0e0e",
   "metadata": {},
   "outputs": [],
   "source": [
    "berlin_code = str(berlin['current']['weather_code'])"
   ]
  },
  {
   "cell_type": "code",
   "execution_count": null,
   "id": "ce780432-ecbf-4f49-8c21-3656242e3276",
   "metadata": {},
   "outputs": [],
   "source": [
    "brooklyn_code = str(brooklyn['current']['weather_code'])"
   ]
  },
  {
   "cell_type": "code",
   "execution_count": null,
   "id": "e52c81c9-1d9e-4acf-848a-6881f6e4870f",
   "metadata": {},
   "outputs": [],
   "source": [
    "# add weather code in words\n",
    "\n",
    "with open(\"raw/descriptions.json\") as f:\n",
    "    weather_dict = json.load(f)"
   ]
  },
  {
   "cell_type": "code",
   "execution_count": null,
   "id": "379a8902-01b0-4dbd-972b-4f762fe409ec",
   "metadata": {},
   "outputs": [],
   "source": [
    "description_berlin = weather_dict.get(berlin_code, {}).get('day', {}).get('description', 'Unknown')\n",
    "description_brooklyn = weather_dict.get(brooklyn_code, {}).get('day', {}).get('description', 'Unknown')\n",
    "description_berlin"
   ]
  },
  {
   "cell_type": "code",
   "execution_count": null,
   "id": "4c00a63f-2e5b-4dee-9c34-394180c39b0f",
   "metadata": {},
   "outputs": [],
   "source": [
    "icon_berlin = weather_dict.get(berlin_code, {}).get('day', {}).get('image', 'Unknown')\n",
    "icon_brooklyn = weather_dict.get(brooklyn_code, {}).get('day', {}).get('image', 'Unknown')"
   ]
  },
  {
   "cell_type": "code",
   "execution_count": null,
   "id": "51bc4a68-ebe2-4251-8936-e179e7385f92",
   "metadata": {},
   "outputs": [],
   "source": []
  },
  {
   "cell_type": "code",
   "execution_count": null,
   "id": "85311d70-f385-451d-a665-69837ea6b48a",
   "metadata": {},
   "outputs": [],
   "source": [
    "text_berlin1 = f'<strong>{description_berlin}</strong>.'\n",
    "text_berlin2 = f'<span style=\"font-size:50px;\">![]({icon_berlin})</span>'\n",
    "text_berlin3 = f'The Temperature is <strong>{berlin_temp}<strong> degree Celcius.'"
   ]
  },
  {
   "cell_type": "code",
   "execution_count": null,
   "id": "959bb4da-d728-43b9-9f77-6eef153bc51e",
   "metadata": {},
   "outputs": [],
   "source": [
    "text_brooklyn1 = f'<strong>{description_brooklyn}</strong>.'\n",
    "text_brooklyn2 = f'<span style=\"font-size:50px;\">![]({icon_brooklyn})</span>'\n",
    "text_brooklyn3 = f'The Temperature is <strong>{brooklyn_temp}<strong> degree Celcius.'"
   ]
  },
  {
   "cell_type": "code",
   "execution_count": null,
   "id": "d90aa547-6e5b-4b18-9261-823f10968cad",
   "metadata": {},
   "outputs": [],
   "source": [
    "# turn dictionary into dataframe\n",
    "data = {\n",
    "    'Field': ['image', 'Temperatur'],\n",
    "    'Berlin': [text_berlin2, text_berlin3],\n",
    "    'Brooklyn': [text_brooklyn2, text_brooklyn3]\n",
    "}\n",
    "\n",
    "df = pd.DataFrame(data)\n",
    "df"
   ]
  },
  {
   "cell_type": "code",
   "execution_count": null,
   "id": "77ab535b-53c7-4be0-bd10-ef4973ffb445",
   "metadata": {},
   "outputs": [],
   "source": [
    "df.to_csv('processed/current.csv', index=False)"
   ]
  }
 ],
 "metadata": {
  "kernelspec": {
   "display_name": "Python 3 (ipykernel)",
   "language": "python",
   "name": "python3"
  },
  "language_info": {
   "codemirror_mode": {
    "name": "ipython",
    "version": 3
   },
   "file_extension": ".py",
   "mimetype": "text/x-python",
   "name": "python",
   "nbconvert_exporter": "python",
   "pygments_lexer": "ipython3",
   "version": "3.12.8"
  }
 },
 "nbformat": 4,
 "nbformat_minor": 5
}
