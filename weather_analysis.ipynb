{
 "cells": [
  {
   "cell_type": "code",
   "execution_count": 56,
   "id": "eef7e08f-9cc3-4dfd-879d-46a320076881",
   "metadata": {},
   "outputs": [],
   "source": [
    "import pandas as pd\n",
    "import numpy as np\n",
    "from datetime import datetime\n",
    "from datetime import timedelta\n",
    "import os\n",
    "\n",
    "from os import path\n",
    "from wordcloud import WordCloud\n",
    "import matplotlib.pyplot as plt\n",
    "from collections import Counter\n",
    "from PIL import Image\n",
    "from wordcloud import WordCloud, STOPWORDS"
   ]
  },
  {
   "cell_type": "code",
   "execution_count": 57,
   "id": "676fb95a-37a9-44c9-97e1-e93d24f17100",
   "metadata": {},
   "outputs": [],
   "source": [
    "df_berlin = pd.read_csv('processed/berlin_cleaned.csv')"
   ]
  },
  {
   "cell_type": "code",
   "execution_count": 58,
   "id": "5620f869-48c1-414d-b637-29b5ccb46591",
   "metadata": {},
   "outputs": [
    {
     "data": {
      "text/html": [
       "<div>\n",
       "<style scoped>\n",
       "    .dataframe tbody tr th:only-of-type {\n",
       "        vertical-align: middle;\n",
       "    }\n",
       "\n",
       "    .dataframe tbody tr th {\n",
       "        vertical-align: top;\n",
       "    }\n",
       "\n",
       "    .dataframe thead th {\n",
       "        text-align: right;\n",
       "    }\n",
       "</style>\n",
       "<table border=\"1\" class=\"dataframe\">\n",
       "  <thead>\n",
       "    <tr style=\"text-align: right;\">\n",
       "      <th></th>\n",
       "      <th>day</th>\n",
       "      <th>weather_code</th>\n",
       "      <th>humidity</th>\n",
       "      <th>temperature</th>\n",
       "      <th>feels_like</th>\n",
       "      <th>rain</th>\n",
       "      <th>snowfall</th>\n",
       "      <th>sunshine_hours</th>\n",
       "      <th>daylight_hours</th>\n",
       "      <th>month_year</th>\n",
       "      <th>year</th>\n",
       "      <th>month_num</th>\n",
       "      <th>season</th>\n",
       "      <th>day_of_week</th>\n",
       "      <th>weather_description</th>\n",
       "    </tr>\n",
       "  </thead>\n",
       "  <tbody>\n",
       "    <tr>\n",
       "      <th>0</th>\n",
       "      <td>2015-07-15</td>\n",
       "      <td>3</td>\n",
       "      <td>71</td>\n",
       "      <td>18.3</td>\n",
       "      <td>17.6</td>\n",
       "      <td>0.0</td>\n",
       "      <td>0.0</td>\n",
       "      <td>11.526564</td>\n",
       "      <td>16.363972</td>\n",
       "      <td>2015-07</td>\n",
       "      <td>2015</td>\n",
       "      <td>7</td>\n",
       "      <td>summer</td>\n",
       "      <td>Wednesday</td>\n",
       "      <td>Cloudy</td>\n",
       "    </tr>\n",
       "    <tr>\n",
       "      <th>1</th>\n",
       "      <td>2015-07-16</td>\n",
       "      <td>51</td>\n",
       "      <td>67</td>\n",
       "      <td>20.3</td>\n",
       "      <td>20.5</td>\n",
       "      <td>0.1</td>\n",
       "      <td>0.0</td>\n",
       "      <td>12.943117</td>\n",
       "      <td>16.325992</td>\n",
       "      <td>2015-07</td>\n",
       "      <td>2015</td>\n",
       "      <td>7</td>\n",
       "      <td>summer</td>\n",
       "      <td>Thursday</td>\n",
       "      <td>Light Drizzle</td>\n",
       "    </tr>\n",
       "    <tr>\n",
       "      <th>2</th>\n",
       "      <td>2015-07-17</td>\n",
       "      <td>3</td>\n",
       "      <td>67</td>\n",
       "      <td>23.1</td>\n",
       "      <td>24.1</td>\n",
       "      <td>0.0</td>\n",
       "      <td>0.0</td>\n",
       "      <td>14.145764</td>\n",
       "      <td>16.286950</td>\n",
       "      <td>2015-07</td>\n",
       "      <td>2015</td>\n",
       "      <td>7</td>\n",
       "      <td>summer</td>\n",
       "      <td>Friday</td>\n",
       "      <td>Cloudy</td>\n",
       "    </tr>\n",
       "    <tr>\n",
       "      <th>3</th>\n",
       "      <td>2015-07-18</td>\n",
       "      <td>51</td>\n",
       "      <td>67</td>\n",
       "      <td>22.7</td>\n",
       "      <td>23.2</td>\n",
       "      <td>0.3</td>\n",
       "      <td>0.0</td>\n",
       "      <td>14.633294</td>\n",
       "      <td>16.246900</td>\n",
       "      <td>2015-07</td>\n",
       "      <td>2015</td>\n",
       "      <td>7</td>\n",
       "      <td>summer</td>\n",
       "      <td>Saturday</td>\n",
       "      <td>Light Drizzle</td>\n",
       "    </tr>\n",
       "    <tr>\n",
       "      <th>4</th>\n",
       "      <td>2015-07-19</td>\n",
       "      <td>63</td>\n",
       "      <td>80</td>\n",
       "      <td>18.7</td>\n",
       "      <td>18.9</td>\n",
       "      <td>11.3</td>\n",
       "      <td>0.0</td>\n",
       "      <td>7.333481</td>\n",
       "      <td>16.205839</td>\n",
       "      <td>2015-07</td>\n",
       "      <td>2015</td>\n",
       "      <td>7</td>\n",
       "      <td>summer</td>\n",
       "      <td>Sunday</td>\n",
       "      <td>Rain</td>\n",
       "    </tr>\n",
       "    <tr>\n",
       "      <th>...</th>\n",
       "      <td>...</td>\n",
       "      <td>...</td>\n",
       "      <td>...</td>\n",
       "      <td>...</td>\n",
       "      <td>...</td>\n",
       "      <td>...</td>\n",
       "      <td>...</td>\n",
       "      <td>...</td>\n",
       "      <td>...</td>\n",
       "      <td>...</td>\n",
       "      <td>...</td>\n",
       "      <td>...</td>\n",
       "      <td>...</td>\n",
       "      <td>...</td>\n",
       "      <td>...</td>\n",
       "    </tr>\n",
       "    <tr>\n",
       "      <th>3619</th>\n",
       "      <td>2025-06-11</td>\n",
       "      <td>51</td>\n",
       "      <td>67</td>\n",
       "      <td>15.8</td>\n",
       "      <td>13.3</td>\n",
       "      <td>1.1</td>\n",
       "      <td>0.0</td>\n",
       "      <td>13.343106</td>\n",
       "      <td>16.756864</td>\n",
       "      <td>2025-06</td>\n",
       "      <td>2025</td>\n",
       "      <td>6</td>\n",
       "      <td>summer</td>\n",
       "      <td>Wednesday</td>\n",
       "      <td>Light Drizzle</td>\n",
       "    </tr>\n",
       "    <tr>\n",
       "      <th>3620</th>\n",
       "      <td>2025-06-12</td>\n",
       "      <td>1</td>\n",
       "      <td>58</td>\n",
       "      <td>16.6</td>\n",
       "      <td>15.2</td>\n",
       "      <td>0.0</td>\n",
       "      <td>0.0</td>\n",
       "      <td>15.379931</td>\n",
       "      <td>16.773250</td>\n",
       "      <td>2025-06</td>\n",
       "      <td>2025</td>\n",
       "      <td>6</td>\n",
       "      <td>summer</td>\n",
       "      <td>Thursday</td>\n",
       "      <td>Mainly Sunny</td>\n",
       "    </tr>\n",
       "    <tr>\n",
       "      <th>3621</th>\n",
       "      <td>2025-06-13</td>\n",
       "      <td>3</td>\n",
       "      <td>42</td>\n",
       "      <td>18.7</td>\n",
       "      <td>15.9</td>\n",
       "      <td>0.0</td>\n",
       "      <td>0.0</td>\n",
       "      <td>15.390986</td>\n",
       "      <td>16.787853</td>\n",
       "      <td>2025-06</td>\n",
       "      <td>2025</td>\n",
       "      <td>6</td>\n",
       "      <td>summer</td>\n",
       "      <td>Friday</td>\n",
       "      <td>Cloudy</td>\n",
       "    </tr>\n",
       "    <tr>\n",
       "      <th>3622</th>\n",
       "      <td>2025-06-14</td>\n",
       "      <td>0</td>\n",
       "      <td>42</td>\n",
       "      <td>23.0</td>\n",
       "      <td>21.0</td>\n",
       "      <td>0.0</td>\n",
       "      <td>0.0</td>\n",
       "      <td>15.412967</td>\n",
       "      <td>16.800631</td>\n",
       "      <td>2025-06</td>\n",
       "      <td>2025</td>\n",
       "      <td>6</td>\n",
       "      <td>summer</td>\n",
       "      <td>Saturday</td>\n",
       "      <td>Sunny</td>\n",
       "    </tr>\n",
       "    <tr>\n",
       "      <th>3623</th>\n",
       "      <td>2025-06-15</td>\n",
       "      <td>53</td>\n",
       "      <td>51</td>\n",
       "      <td>24.1</td>\n",
       "      <td>23.5</td>\n",
       "      <td>1.7</td>\n",
       "      <td>0.0</td>\n",
       "      <td>13.010392</td>\n",
       "      <td>16.811556</td>\n",
       "      <td>2025-06</td>\n",
       "      <td>2025</td>\n",
       "      <td>6</td>\n",
       "      <td>summer</td>\n",
       "      <td>Sunday</td>\n",
       "      <td>Drizzle</td>\n",
       "    </tr>\n",
       "  </tbody>\n",
       "</table>\n",
       "<p>3624 rows × 15 columns</p>\n",
       "</div>"
      ],
      "text/plain": [
       "             day  weather_code  humidity  temperature  feels_like  rain  \\\n",
       "0     2015-07-15             3        71         18.3        17.6   0.0   \n",
       "1     2015-07-16            51        67         20.3        20.5   0.1   \n",
       "2     2015-07-17             3        67         23.1        24.1   0.0   \n",
       "3     2015-07-18            51        67         22.7        23.2   0.3   \n",
       "4     2015-07-19            63        80         18.7        18.9  11.3   \n",
       "...          ...           ...       ...          ...         ...   ...   \n",
       "3619  2025-06-11            51        67         15.8        13.3   1.1   \n",
       "3620  2025-06-12             1        58         16.6        15.2   0.0   \n",
       "3621  2025-06-13             3        42         18.7        15.9   0.0   \n",
       "3622  2025-06-14             0        42         23.0        21.0   0.0   \n",
       "3623  2025-06-15            53        51         24.1        23.5   1.7   \n",
       "\n",
       "      snowfall  sunshine_hours  daylight_hours month_year  year  month_num  \\\n",
       "0          0.0       11.526564       16.363972    2015-07  2015          7   \n",
       "1          0.0       12.943117       16.325992    2015-07  2015          7   \n",
       "2          0.0       14.145764       16.286950    2015-07  2015          7   \n",
       "3          0.0       14.633294       16.246900    2015-07  2015          7   \n",
       "4          0.0        7.333481       16.205839    2015-07  2015          7   \n",
       "...        ...             ...             ...        ...   ...        ...   \n",
       "3619       0.0       13.343106       16.756864    2025-06  2025          6   \n",
       "3620       0.0       15.379931       16.773250    2025-06  2025          6   \n",
       "3621       0.0       15.390986       16.787853    2025-06  2025          6   \n",
       "3622       0.0       15.412967       16.800631    2025-06  2025          6   \n",
       "3623       0.0       13.010392       16.811556    2025-06  2025          6   \n",
       "\n",
       "      season day_of_week weather_description  \n",
       "0     summer   Wednesday              Cloudy  \n",
       "1     summer    Thursday       Light Drizzle  \n",
       "2     summer      Friday              Cloudy  \n",
       "3     summer    Saturday       Light Drizzle  \n",
       "4     summer      Sunday                Rain  \n",
       "...      ...         ...                 ...  \n",
       "3619  summer   Wednesday       Light Drizzle  \n",
       "3620  summer    Thursday        Mainly Sunny  \n",
       "3621  summer      Friday              Cloudy  \n",
       "3622  summer    Saturday               Sunny  \n",
       "3623  summer      Sunday             Drizzle  \n",
       "\n",
       "[3624 rows x 15 columns]"
      ]
     },
     "execution_count": 58,
     "metadata": {},
     "output_type": "execute_result"
    }
   ],
   "source": [
    "df_berlin"
   ]
  },
  {
   "cell_type": "code",
   "execution_count": 59,
   "id": "baf924e2-08de-407e-8256-09fef1af15fd",
   "metadata": {},
   "outputs": [],
   "source": [
    "df_brooklyn = pd.read_csv('processed/brooklyn_cleaned.csv')"
   ]
  },
  {
   "cell_type": "code",
   "execution_count": 60,
   "id": "85025875-36a3-46de-bd76-245fd7a7911c",
   "metadata": {},
   "outputs": [],
   "source": [
    "# add rolling averages to files for visualisations \n",
    "\n",
    "# df_berlin['rain_7d_avg'] = df_berlin['rain'].rolling(window=7).mean()\n",
    "# df_berlin['sunshine_hours_7d_avg'] = df_berlin['sunshine_hours'].rolling(window=7).mean()\n",
    "# df_berlin['snowfall_7d_avg'] = df_berlin['snowfall'].rolling(window=7).mean()\n",
    "# df_berlin['rain_30d_avg'] = df_berlin['rain'].rolling(window=30).mean()\n",
    "# df_berlin['sunshine_30d_avg'] = df_berlin['sunshine_hours'].rolling(window=30).mean()\n",
    "# df_berlin['snowfall_30d_avg'] = df_berlin['snowfall'].rolling(window=30).mean()"
   ]
  },
  {
   "cell_type": "code",
   "execution_count": 61,
   "id": "1beb7165-6076-4c05-9e12-1df5ee38e816",
   "metadata": {},
   "outputs": [],
   "source": [
    "# df_brooklyn['rain_7d_avg'] = df_brooklyn['rain'].rolling(window=7).mean()\n",
    "# df_brooklyn['sunshine_7d_avg'] = df_brooklyn['sunshine_hours'].rolling(window=7).mean()\n",
    "# df_brooklyn['snowfall_7d_avg'] = df_brooklyn['snowfall'].rolling(window=7).mean()\n",
    "# df_brooklyn['rain_30d_avg'] = df_brooklyn['rain'].rolling(window=30).mean()\n",
    "# df_brooklyn['sunshine_30d_avg'] = df_brooklyn['sunshine_hours'].rolling(window=30).mean()\n",
    "# df_brooklyn['snowfall_30d_avg'] = df_brooklyn['snowfall'].rolling(window=30).mean()"
   ]
  },
  {
   "cell_type": "code",
   "execution_count": 62,
   "id": "512e6a8a-eb7a-4cb3-95cc-38ab6f457389",
   "metadata": {},
   "outputs": [],
   "source": [
    "season_berlin = df_berlin.groupby('season')['temperature'].mean()"
   ]
  },
  {
   "cell_type": "code",
   "execution_count": 63,
   "id": "f33051d9-fe57-4137-945d-941c94fa3d26",
   "metadata": {},
   "outputs": [
    {
     "data": {
      "text/html": [
       "<div>\n",
       "<style scoped>\n",
       "    .dataframe tbody tr th:only-of-type {\n",
       "        vertical-align: middle;\n",
       "    }\n",
       "\n",
       "    .dataframe tbody tr th {\n",
       "        vertical-align: top;\n",
       "    }\n",
       "\n",
       "    .dataframe thead th {\n",
       "        text-align: right;\n",
       "    }\n",
       "</style>\n",
       "<table border=\"1\" class=\"dataframe\">\n",
       "  <thead>\n",
       "    <tr style=\"text-align: right;\">\n",
       "      <th></th>\n",
       "      <th>temperature</th>\n",
       "    </tr>\n",
       "    <tr>\n",
       "      <th>season</th>\n",
       "      <th></th>\n",
       "    </tr>\n",
       "  </thead>\n",
       "  <tbody>\n",
       "    <tr>\n",
       "      <th>fall</th>\n",
       "      <td>11.086264</td>\n",
       "    </tr>\n",
       "    <tr>\n",
       "      <th>spring</th>\n",
       "      <td>9.816522</td>\n",
       "    </tr>\n",
       "    <tr>\n",
       "      <th>summer</th>\n",
       "      <td>20.114254</td>\n",
       "    </tr>\n",
       "    <tr>\n",
       "      <th>winter</th>\n",
       "      <td>2.747176</td>\n",
       "    </tr>\n",
       "  </tbody>\n",
       "</table>\n",
       "</div>"
      ],
      "text/plain": [
       "        temperature\n",
       "season             \n",
       "fall      11.086264\n",
       "spring     9.816522\n",
       "summer    20.114254\n",
       "winter     2.747176"
      ]
     },
     "execution_count": 63,
     "metadata": {},
     "output_type": "execute_result"
    }
   ],
   "source": [
    "season_berlin.to_frame()"
   ]
  },
  {
   "cell_type": "code",
   "execution_count": 64,
   "id": "87ffb66b-564d-450b-9f72-8469fc9fbc25",
   "metadata": {},
   "outputs": [],
   "source": [
    "season_brooklyn = df_brooklyn.groupby('season')['temperature'].mean()"
   ]
  },
  {
   "cell_type": "code",
   "execution_count": 65,
   "id": "ad5794da-4208-4422-a81a-76746f6ff8a4",
   "metadata": {},
   "outputs": [
    {
     "data": {
      "text/plain": [
       "season\n",
       "fall       7.682108\n",
       "spring     8.582293\n",
       "summer    10.989377\n",
       "winter     5.825081\n",
       "Name: sunshine_hours, dtype: float64"
      ]
     },
     "execution_count": 65,
     "metadata": {},
     "output_type": "execute_result"
    }
   ],
   "source": [
    "df_brooklyn.groupby('season')['sunshine_hours'].mean()"
   ]
  },
  {
   "cell_type": "code",
   "execution_count": 66,
   "id": "84afad35-fda2-4729-9901-d090ff782457",
   "metadata": {},
   "outputs": [
    {
     "data": {
      "text/plain": [
       "season\n",
       "fall       6.026350\n",
       "spring     9.126760\n",
       "summer    11.412396\n",
       "winter     3.249650\n",
       "Name: sunshine_hours, dtype: float64"
      ]
     },
     "execution_count": 66,
     "metadata": {},
     "output_type": "execute_result"
    }
   ],
   "source": [
    "df_berlin.groupby('season')['sunshine_hours'].mean()"
   ]
  },
  {
   "cell_type": "code",
   "execution_count": 67,
   "id": "5636aac3-a15b-4a27-baa7-3ada6b1554b6",
   "metadata": {},
   "outputs": [
    {
     "data": {
      "text/plain": [
       "(547,)"
      ]
     },
     "execution_count": 67,
     "metadata": {},
     "output_type": "execute_result"
    }
   ],
   "source": [
    "df_berlin[df_berlin['sunshine_hours'] < 1]['sunshine_hours'].shape"
   ]
  },
  {
   "cell_type": "code",
   "execution_count": 68,
   "id": "4ac6339f-6947-4ad6-81e5-f812983ed551",
   "metadata": {},
   "outputs": [
    {
     "data": {
      "text/plain": [
       "(382,)"
      ]
     },
     "execution_count": 68,
     "metadata": {},
     "output_type": "execute_result"
    }
   ],
   "source": [
    "df_brooklyn[df_brooklyn['sunshine_hours'] < 1]['sunshine_hours'].shape"
   ]
  },
  {
   "cell_type": "code",
   "execution_count": 69,
   "id": "e894001b-13a4-446f-be95-c126eee65aeb",
   "metadata": {},
   "outputs": [],
   "source": [
    "sun_berlin = df_berlin[df_berlin['sunshine_hours'] >= 1].groupby('month_year').size().to_frame()"
   ]
  },
  {
   "cell_type": "code",
   "execution_count": 70,
   "id": "aae06d3e-a9ee-40b9-a7ee-bbddd5e243cf",
   "metadata": {},
   "outputs": [],
   "source": [
    "sun_brooklyn = df_brooklyn[df_brooklyn['sunshine_hours'] >= 1].groupby('month_year').size().to_frame()"
   ]
  },
  {
   "cell_type": "code",
   "execution_count": 71,
   "id": "dcd68d46-3c27-4567-8d1b-75ca1b0a0447",
   "metadata": {},
   "outputs": [
    {
     "data": {
      "text/html": [
       "<div>\n",
       "<style scoped>\n",
       "    .dataframe tbody tr th:only-of-type {\n",
       "        vertical-align: middle;\n",
       "    }\n",
       "\n",
       "    .dataframe tbody tr th {\n",
       "        vertical-align: top;\n",
       "    }\n",
       "\n",
       "    .dataframe thead th {\n",
       "        text-align: right;\n",
       "    }\n",
       "</style>\n",
       "<table border=\"1\" class=\"dataframe\">\n",
       "  <thead>\n",
       "    <tr style=\"text-align: right;\">\n",
       "      <th></th>\n",
       "      <th>0</th>\n",
       "    </tr>\n",
       "    <tr>\n",
       "      <th>month_year</th>\n",
       "      <th></th>\n",
       "    </tr>\n",
       "  </thead>\n",
       "  <tbody>\n",
       "    <tr>\n",
       "      <th>2015-06</th>\n",
       "      <td>15</td>\n",
       "    </tr>\n",
       "    <tr>\n",
       "      <th>2015-07</th>\n",
       "      <td>31</td>\n",
       "    </tr>\n",
       "    <tr>\n",
       "      <th>2015-08</th>\n",
       "      <td>31</td>\n",
       "    </tr>\n",
       "    <tr>\n",
       "      <th>2015-09</th>\n",
       "      <td>30</td>\n",
       "    </tr>\n",
       "    <tr>\n",
       "      <th>2015-10</th>\n",
       "      <td>27</td>\n",
       "    </tr>\n",
       "    <tr>\n",
       "      <th>...</th>\n",
       "      <td>...</td>\n",
       "    </tr>\n",
       "    <tr>\n",
       "      <th>2025-02</th>\n",
       "      <td>24</td>\n",
       "    </tr>\n",
       "    <tr>\n",
       "      <th>2025-03</th>\n",
       "      <td>27</td>\n",
       "    </tr>\n",
       "    <tr>\n",
       "      <th>2025-04</th>\n",
       "      <td>25</td>\n",
       "    </tr>\n",
       "    <tr>\n",
       "      <th>2025-05</th>\n",
       "      <td>26</td>\n",
       "    </tr>\n",
       "    <tr>\n",
       "      <th>2025-06</th>\n",
       "      <td>14</td>\n",
       "    </tr>\n",
       "  </tbody>\n",
       "</table>\n",
       "<p>121 rows × 1 columns</p>\n",
       "</div>"
      ],
      "text/plain": [
       "             0\n",
       "month_year    \n",
       "2015-06     15\n",
       "2015-07     31\n",
       "2015-08     31\n",
       "2015-09     30\n",
       "2015-10     27\n",
       "...         ..\n",
       "2025-02     24\n",
       "2025-03     27\n",
       "2025-04     25\n",
       "2025-05     26\n",
       "2025-06     14\n",
       "\n",
       "[121 rows x 1 columns]"
      ]
     },
     "execution_count": 71,
     "metadata": {},
     "output_type": "execute_result"
    }
   ],
   "source": [
    "sun_brooklyn"
   ]
  },
  {
   "cell_type": "code",
   "execution_count": 72,
   "id": "513c0d30-24c8-46f5-81d2-83835be49d70",
   "metadata": {},
   "outputs": [],
   "source": [
    "sun_merged = pd.merge(sun_berlin, sun_brooklyn, on='month_year', suffixes=('_berlin', '_brooklyn'))"
   ]
  },
  {
   "cell_type": "code",
   "execution_count": 73,
   "id": "70898804-bbf8-4d3b-aa2b-fa8b61b5cf01",
   "metadata": {},
   "outputs": [
    {
     "data": {
      "text/plain": [
       "year\n",
       "2015     548.4\n",
       "2016     812.6\n",
       "2017    1027.6\n",
       "2018    1549.6\n",
       "2019    1218.4\n",
       "2020    1150.9\n",
       "2021    1223.3\n",
       "2022    1265.5\n",
       "2023    1426.8\n",
       "2024    1194.8\n",
       "2025     569.1\n",
       "Name: rain, dtype: float64"
      ]
     },
     "execution_count": 73,
     "metadata": {},
     "output_type": "execute_result"
    }
   ],
   "source": [
    "# Amount of rain per year\n",
    "\n",
    "df_berlin.groupby('year')['rain'].sum()\n",
    "df_brooklyn.groupby('year')['rain'].sum()"
   ]
  },
  {
   "cell_type": "code",
   "execution_count": 74,
   "id": "cde43f4c-da09-47d2-a496-c2616c4154d1",
   "metadata": {},
   "outputs": [
    {
     "data": {
      "text/plain": [
       "<Axes: title={'center': 'Rain Sum per year Berlin'}, ylabel='year'>"
      ]
     },
     "execution_count": 74,
     "metadata": {},
     "output_type": "execute_result"
    },
    {
     "data": {
      "image/png": "[encoded data removed]",
      "text/plain": [
       "<Figure size 640x480 with 1 Axes>"
      ]
     },
     "metadata": {},
     "output_type": "display_data"
    }
   ],
   "source": [
    "df_berlin.groupby('year')['rain'].sum().plot(kind='barh', title='Rain Sum per year Berlin')"
   ]
  },
  {
   "cell_type": "code",
   "execution_count": 75,
   "id": "3bb3da94-9a84-43bd-a3be-cb15c264db04",
   "metadata": {},
   "outputs": [
    {
     "data": {
      "text/html": [
       "<div>\n",
       "<style scoped>\n",
       "    .dataframe tbody tr th:only-of-type {\n",
       "        vertical-align: middle;\n",
       "    }\n",
       "\n",
       "    .dataframe tbody tr th {\n",
       "        vertical-align: top;\n",
       "    }\n",
       "\n",
       "    .dataframe thead th {\n",
       "        text-align: right;\n",
       "    }\n",
       "</style>\n",
       "<table border=\"1\" class=\"dataframe\">\n",
       "  <thead>\n",
       "    <tr style=\"text-align: right;\">\n",
       "      <th></th>\n",
       "      <th>rain</th>\n",
       "    </tr>\n",
       "    <tr>\n",
       "      <th>year</th>\n",
       "      <th></th>\n",
       "    </tr>\n",
       "  </thead>\n",
       "  <tbody>\n",
       "    <tr>\n",
       "      <th>2015</th>\n",
       "      <td>306.2</td>\n",
       "    </tr>\n",
       "    <tr>\n",
       "      <th>2016</th>\n",
       "      <td>490.7</td>\n",
       "    </tr>\n",
       "    <tr>\n",
       "      <th>2017</th>\n",
       "      <td>798.1</td>\n",
       "    </tr>\n",
       "    <tr>\n",
       "      <th>2018</th>\n",
       "      <td>381.5</td>\n",
       "    </tr>\n",
       "    <tr>\n",
       "      <th>2019</th>\n",
       "      <td>508.0</td>\n",
       "    </tr>\n",
       "    <tr>\n",
       "      <th>2020</th>\n",
       "      <td>531.4</td>\n",
       "    </tr>\n",
       "    <tr>\n",
       "      <th>2021</th>\n",
       "      <td>574.0</td>\n",
       "    </tr>\n",
       "    <tr>\n",
       "      <th>2022</th>\n",
       "      <td>472.1</td>\n",
       "    </tr>\n",
       "    <tr>\n",
       "      <th>2023</th>\n",
       "      <td>777.8</td>\n",
       "    </tr>\n",
       "    <tr>\n",
       "      <th>2024</th>\n",
       "      <td>628.8</td>\n",
       "    </tr>\n",
       "    <tr>\n",
       "      <th>2025</th>\n",
       "      <td>152.0</td>\n",
       "    </tr>\n",
       "  </tbody>\n",
       "</table>\n",
       "</div>"
      ],
      "text/plain": [
       "       rain\n",
       "year       \n",
       "2015  306.2\n",
       "2016  490.7\n",
       "2017  798.1\n",
       "2018  381.5\n",
       "2019  508.0\n",
       "2020  531.4\n",
       "2021  574.0\n",
       "2022  472.1\n",
       "2023  777.8\n",
       "2024  628.8\n",
       "2025  152.0"
      ]
     },
     "execution_count": 75,
     "metadata": {},
     "output_type": "execute_result"
    }
   ],
   "source": [
    "df_berlin.groupby('year')['rain'].sum().to_frame()"
   ]
  },
  {
   "cell_type": "code",
   "execution_count": 76,
   "id": "51539c8a-d4f1-43b1-ad76-991083dcc9ef",
   "metadata": {},
   "outputs": [],
   "source": [
    "combined = pd.concat([(df_berlin.groupby('year')['rain'].sum().to_frame().add_suffix('_berlin')),(df_brooklyn.groupby('year')['rain'].sum().to_frame().add_suffix('_nyc'))], axis=1)\n",
    "combined.to_csv('rain_sum_year.csv') "
   ]
  },
  {
   "cell_type": "code",
   "execution_count": 77,
   "id": "2f01bb21-9a98-4aad-a0e5-887d1b51ce9a",
   "metadata": {},
   "outputs": [],
   "source": [
    "merged = pd.merge(df_berlin, df_brooklyn, on='day', suffixes=('_berlin', '_brooklyn'))"
   ]
  },
  {
   "cell_type": "code",
   "execution_count": 78,
   "id": "6d3f9085-7aad-406b-b365-1bee2dfc01be",
   "metadata": {},
   "outputs": [],
   "source": [
    "merged = merged.drop(['month_year_berlin', 'year_berlin', 'month_num_berlin', 'season_berlin'], axis=1)"
   ]
  },
  {
   "cell_type": "code",
   "execution_count": 79,
   "id": "d0bef40a-c3c4-48c3-9ebd-7ef13d4611ab",
   "metadata": {},
   "outputs": [],
   "source": [
    "(\n",
    "    merged\n",
    "    .rename(\n",
    "        columns={\n",
    "            'month_num_brooklyn' : 'month_num', \n",
    "            'season_brooklyn' : 'season', \n",
    "            'year_brooklyn' : 'year', \n",
    "            'month_year_brooklyn' : 'month_year'\n",
    "        },\n",
    "        inplace=True\n",
    "    )\n",
    ")\n",
    "            "
   ]
  },
  {
   "cell_type": "code",
   "execution_count": 80,
   "id": "c9675c54-7d5e-4444-9f14-ac3be28dfa95",
   "metadata": {},
   "outputs": [
    {
     "data": {
      "text/plain": [
       "<Axes: xlabel='day', ylabel='[temperature_brooklyn]'>"
      ]
     },
     "execution_count": 80,
     "metadata": {},
     "output_type": "execute_result"
    },
    {
     "data": {
      "image/png": "[encoded data removed]",
      "text/plain": [
       "<Figure size 640x480 with 1 Axes>"
      ]
     },
     "metadata": {},
     "output_type": "display_data"
    }
   ],
   "source": [
    "merged.plot(x='day', y=['temperature_brooklyn'], kind='scatter')"
   ]
  },
  {
   "cell_type": "code",
   "execution_count": 81,
   "id": "b411d1fd-5dc5-40c5-920e-260a341cc65b",
   "metadata": {},
   "outputs": [],
   "source": [
    "# get days with sun\n",
    "merged['sunny_flag_brooklyn'] = merged['weather_description_brooklyn'].isin(['Sunny', 'Mainly sunny'])"
   ]
  },
  {
   "cell_type": "code",
   "execution_count": 82,
   "id": "92724d23-5693-4640-91a6-16389fe3e0f9",
   "metadata": {},
   "outputs": [],
   "source": [
    "merged['sunny_flag_berlin'] = merged['weather_description_berlin'].isin(['Sunny', 'Mainly sunny'])"
   ]
  },
  {
   "cell_type": "code",
   "execution_count": 83,
   "id": "19846f4d-2b2d-4dbe-95ed-63d607a8afbe",
   "metadata": {},
   "outputs": [],
   "source": [
    "merged['day'] = pd.to_datetime(merged['day'])"
   ]
  },
  {
   "cell_type": "code",
   "execution_count": 84,
   "id": "5fe91d01-e09e-499e-a983-a6c2e59bd4d2",
   "metadata": {},
   "outputs": [
    {
     "data": {
      "text/plain": [
       "0       False\n",
       "1       False\n",
       "2       False\n",
       "3        True\n",
       "4        True\n",
       "        ...  \n",
       "3619    False\n",
       "3620    False\n",
       "3621    False\n",
       "3622     True\n",
       "3623     True\n",
       "Name: is_weekend, Length: 3624, dtype: bool"
      ]
     },
     "execution_count": 84,
     "metadata": {},
     "output_type": "execute_result"
    }
   ],
   "source": [
    "merged['is_weekend'] = merged['day'].dt.weekday >= 5\n",
    "merged['is_weekend']"
   ]
  },
  {
   "cell_type": "code",
   "execution_count": 85,
   "id": "dc10dc80-f167-4b1d-bd45-8da7fce8ba53",
   "metadata": {},
   "outputs": [],
   "source": [
    "twelve_months_ago = datetime.now() - timedelta(days=365)\n",
    "five_years = datetime.now() - timedelta(days=1825)"
   ]
  },
  {
   "cell_type": "code",
   "execution_count": 86,
   "id": "28dd6499-4220-4086-ba57-2cab81a07492",
   "metadata": {},
   "outputs": [],
   "source": [
    "merged['day'] = pd.to_datetime(merged['day'])"
   ]
  },
  {
   "cell_type": "code",
   "execution_count": 87,
   "id": "b307ccc6-38ff-4239-be26-67e935dd1e11",
   "metadata": {},
   "outputs": [],
   "source": [
    "recent = merged[merged['day'] >= twelve_months_ago]"
   ]
  },
  {
   "cell_type": "code",
   "execution_count": 88,
   "id": "c40084b2-eb05-487c-8a62-08f7c43b62c4",
   "metadata": {},
   "outputs": [],
   "source": [
    "recent[['day', 'sunny_flag_brooklyn','weather_description_brooklyn', 'sunny_flag_berlin', 'weather_description_berlin']].to_csv('processed/sunny_days.csv')"
   ]
  },
  {
   "cell_type": "code",
   "execution_count": 89,
   "id": "8972713c-6e6d-4f30-9780-982fe30fdde7",
   "metadata": {},
   "outputs": [
    {
     "data": {
      "text/plain": [
       "Index(['day', 'weather_code_berlin', 'humidity_berlin', 'temperature_berlin',\n",
       "       'feels_like_berlin', 'rain_berlin', 'snowfall_berlin',\n",
       "       'sunshine_hours_berlin', 'daylight_hours_berlin', 'day_of_week_berlin',\n",
       "       'weather_description_berlin', 'weather_code_brooklyn',\n",
       "       'temperature_brooklyn', 'feels_like_brooklyn', 'snowfall_brooklyn',\n",
       "       'rain_brooklyn', 'humidity_brooklyn', 'sunshine_hours_brooklyn',\n",
       "       'daylight_hours_brooklyn', 'month_year', 'year', 'month_num', 'season',\n",
       "       'day_of_week_brooklyn', 'weather_description_brooklyn',\n",
       "       'sunny_flag_brooklyn', 'sunny_flag_berlin', 'is_weekend'],\n",
       "      dtype='object')"
      ]
     },
     "execution_count": 89,
     "metadata": {},
     "output_type": "execute_result"
    }
   ],
   "source": [
    "merged.columns"
   ]
  },
  {
   "cell_type": "code",
   "execution_count": 90,
   "id": "db9297a3-0098-4c8a-9e61-075801aa4728",
   "metadata": {},
   "outputs": [],
   "source": [
    "merged['sun_ratio_berlin'] = merged['sunshine_hours_berlin'] / merged['daylight_hours_berlin']"
   ]
  },
  {
   "cell_type": "code",
   "execution_count": 91,
   "id": "6dbda7e8-2e81-4aad-9224-52534de33d02",
   "metadata": {},
   "outputs": [],
   "source": [
    "merged['sun_ratio_brooklyn'] = merged['sunshine_hours_brooklyn'] / merged['daylight_hours_brooklyn']"
   ]
  },
  {
   "cell_type": "code",
   "execution_count": 92,
   "id": "76f3d13e-375c-405e-828f-a0ef38fa3f3f",
   "metadata": {},
   "outputs": [],
   "source": [
    "merged['is_very_sunny_berlin'] = merged['sun_ratio_berlin'] >= 0.8"
   ]
  },
  {
   "cell_type": "code",
   "execution_count": 93,
   "id": "fafeda7a-d880-4c06-8e1d-1a55a461b0ce",
   "metadata": {},
   "outputs": [],
   "source": [
    "merged['is_very_sunny_brooklyn'] = merged['sun_ratio_brooklyn'] >= 0.8"
   ]
  },
  {
   "cell_type": "code",
   "execution_count": 94,
   "id": "9561ff84-9c94-4699-8f27-fa9150efa491",
   "metadata": {},
   "outputs": [],
   "source": [
    "recent = merged[merged['day'] >= twelve_months_ago]"
   ]
  },
  {
   "cell_type": "code",
   "execution_count": 95,
   "id": "b7a64e20-23b1-4c49-8c51-0d953436dcd2",
   "metadata": {},
   "outputs": [],
   "source": [
    "recent[['day', 'is_very_sunny_brooklyn','is_very_sunny_berlin', 'is_weekend']].to_csv('processed/sunny_ratio.csv', index=False)"
   ]
  },
  {
   "cell_type": "code",
   "execution_count": 96,
   "id": "203a1375-343c-47c2-bca2-16aaf94aeb68",
   "metadata": {},
   "outputs": [
    {
     "data": {
      "text/plain": [
       "Index(['day', 'weather_code_berlin', 'humidity_berlin', 'temperature_berlin',\n",
       "       'feels_like_berlin', 'rain_berlin', 'snowfall_berlin',\n",
       "       'sunshine_hours_berlin', 'daylight_hours_berlin', 'day_of_week_berlin',\n",
       "       'weather_description_berlin', 'weather_code_brooklyn',\n",
       "       'temperature_brooklyn', 'feels_like_brooklyn', 'snowfall_brooklyn',\n",
       "       'rain_brooklyn', 'humidity_brooklyn', 'sunshine_hours_brooklyn',\n",
       "       'daylight_hours_brooklyn', 'month_year', 'year', 'month_num', 'season',\n",
       "       'day_of_week_brooklyn', 'weather_description_brooklyn',\n",
       "       'sunny_flag_brooklyn', 'sunny_flag_berlin', 'is_weekend',\n",
       "       'sun_ratio_berlin', 'sun_ratio_brooklyn', 'is_very_sunny_berlin',\n",
       "       'is_very_sunny_brooklyn'],\n",
       "      dtype='object')"
      ]
     },
     "execution_count": 96,
     "metadata": {},
     "output_type": "execute_result"
    }
   ],
   "source": [
    "merged.columns"
   ]
  },
  {
   "cell_type": "code",
   "execution_count": 97,
   "id": "8e5ef755-afe0-4826-bd25-74267fd22144",
   "metadata": {},
   "outputs": [],
   "source": [
    "# sun ratio in month over 5 years\n",
    "\n",
    "sun_ratio = merged[['day', 'month_year', 'sun_ratio_brooklyn', 'sun_ratio_berlin']]\n",
    "sun_ratio.groupby('month_year')[['sun_ratio_brooklyn', 'sun_ratio_berlin']].mean().to_csv('processed/sun_ratio_month.csv')"
   ]
  },
  {
   "cell_type": "code",
   "execution_count": 98,
   "id": "146a4df0-076f-49f6-8ae5-9613f58d33d5",
   "metadata": {},
   "outputs": [
    {
     "data": {
      "text/plain": [
       "Index(['day', 'weather_code_berlin', 'humidity_berlin', 'temperature_berlin',\n",
       "       'feels_like_berlin', 'rain_berlin', 'snowfall_berlin',\n",
       "       'sunshine_hours_berlin', 'daylight_hours_berlin', 'day_of_week_berlin',\n",
       "       'weather_description_berlin', 'weather_code_brooklyn',\n",
       "       'temperature_brooklyn', 'feels_like_brooklyn', 'snowfall_brooklyn',\n",
       "       'rain_brooklyn', 'humidity_brooklyn', 'sunshine_hours_brooklyn',\n",
       "       'daylight_hours_brooklyn', 'month_year', 'year', 'month_num', 'season',\n",
       "       'day_of_week_brooklyn', 'weather_description_brooklyn',\n",
       "       'sunny_flag_brooklyn', 'sunny_flag_berlin', 'is_weekend',\n",
       "       'sun_ratio_berlin', 'sun_ratio_brooklyn', 'is_very_sunny_berlin',\n",
       "       'is_very_sunny_brooklyn'],\n",
       "      dtype='object')"
      ]
     },
     "execution_count": 98,
     "metadata": {},
     "output_type": "execute_result"
    }
   ],
   "source": [
    "merged.columns"
   ]
  },
  {
   "cell_type": "code",
   "execution_count": 99,
   "id": "5e3ab274-7f5d-46fe-83d1-db4d70f00b7c",
   "metadata": {},
   "outputs": [
    {
     "data": {
      "text/html": [
       "<div>\n",
       "<style scoped>\n",
       "    .dataframe tbody tr th:only-of-type {\n",
       "        vertical-align: middle;\n",
       "    }\n",
       "\n",
       "    .dataframe tbody tr th {\n",
       "        vertical-align: top;\n",
       "    }\n",
       "\n",
       "    .dataframe thead th {\n",
       "        text-align: right;\n",
       "    }\n",
       "</style>\n",
       "<table border=\"1\" class=\"dataframe\">\n",
       "  <thead>\n",
       "    <tr style=\"text-align: right;\">\n",
       "      <th></th>\n",
       "      <th>day</th>\n",
       "      <th>weather_code_berlin</th>\n",
       "      <th>humidity_berlin</th>\n",
       "      <th>temperature_berlin</th>\n",
       "      <th>feels_like_berlin</th>\n",
       "      <th>rain_berlin</th>\n",
       "      <th>snowfall_berlin</th>\n",
       "      <th>sunshine_hours_berlin</th>\n",
       "      <th>daylight_hours_berlin</th>\n",
       "      <th>weather_code_brooklyn</th>\n",
       "      <th>...</th>\n",
       "      <th>feels_like_brooklyn</th>\n",
       "      <th>snowfall_brooklyn</th>\n",
       "      <th>rain_brooklyn</th>\n",
       "      <th>humidity_brooklyn</th>\n",
       "      <th>sunshine_hours_brooklyn</th>\n",
       "      <th>daylight_hours_brooklyn</th>\n",
       "      <th>year</th>\n",
       "      <th>month_num</th>\n",
       "      <th>sun_ratio_berlin</th>\n",
       "      <th>sun_ratio_brooklyn</th>\n",
       "    </tr>\n",
       "  </thead>\n",
       "  <tbody>\n",
       "    <tr>\n",
       "      <th>count</th>\n",
       "      <td>3624</td>\n",
       "      <td>3624.000000</td>\n",
       "      <td>3624.000000</td>\n",
       "      <td>3624.000000</td>\n",
       "      <td>3624.000000</td>\n",
       "      <td>3624.000000</td>\n",
       "      <td>3624.000000</td>\n",
       "      <td>3624.000000</td>\n",
       "      <td>3624.000000</td>\n",
       "      <td>3624.000000</td>\n",
       "      <td>...</td>\n",
       "      <td>3624.000000</td>\n",
       "      <td>3624.000000</td>\n",
       "      <td>3624.000000</td>\n",
       "      <td>3624.000000</td>\n",
       "      <td>3624.000000</td>\n",
       "      <td>3624.000000</td>\n",
       "      <td>3624.000000</td>\n",
       "      <td>3624.000000</td>\n",
       "      <td>3624.000000</td>\n",
       "      <td>3624.000000</td>\n",
       "    </tr>\n",
       "    <tr>\n",
       "      <th>mean</th>\n",
       "      <td>2020-06-29 12:00:00</td>\n",
       "      <td>34.078642</td>\n",
       "      <td>74.469647</td>\n",
       "      <td>10.905684</td>\n",
       "      <td>8.254939</td>\n",
       "      <td>1.550938</td>\n",
       "      <td>0.066446</td>\n",
       "      <td>7.445771</td>\n",
       "      <td>12.246242</td>\n",
       "      <td>31.838852</td>\n",
       "      <td>...</td>\n",
       "      <td>10.564487</td>\n",
       "      <td>0.147746</td>\n",
       "      <td>3.259354</td>\n",
       "      <td>70.944536</td>\n",
       "      <td>8.268529</td>\n",
       "      <td>12.182565</td>\n",
       "      <td>2019.994481</td>\n",
       "      <td>6.522627</td>\n",
       "      <td>0.570932</td>\n",
       "      <td>0.671073</td>\n",
       "    </tr>\n",
       "    <tr>\n",
       "      <th>min</th>\n",
       "      <td>2015-07-15 00:00:00</td>\n",
       "      <td>0.000000</td>\n",
       "      <td>34.000000</td>\n",
       "      <td>-10.200000</td>\n",
       "      <td>-15.500000</td>\n",
       "      <td>0.000000</td>\n",
       "      <td>0.000000</td>\n",
       "      <td>0.000000</td>\n",
       "      <td>7.643347</td>\n",
       "      <td>0.000000</td>\n",
       "      <td>...</td>\n",
       "      <td>-21.500000</td>\n",
       "      <td>0.000000</td>\n",
       "      <td>0.000000</td>\n",
       "      <td>31.000000</td>\n",
       "      <td>0.000000</td>\n",
       "      <td>9.255797</td>\n",
       "      <td>2015.000000</td>\n",
       "      <td>1.000000</td>\n",
       "      <td>0.000000</td>\n",
       "      <td>0.000000</td>\n",
       "    </tr>\n",
       "    <tr>\n",
       "      <th>25%</th>\n",
       "      <td>2018-01-05 18:00:00</td>\n",
       "      <td>3.000000</td>\n",
       "      <td>65.000000</td>\n",
       "      <td>4.900000</td>\n",
       "      <td>0.800000</td>\n",
       "      <td>0.000000</td>\n",
       "      <td>0.000000</td>\n",
       "      <td>3.306301</td>\n",
       "      <td>9.265566</td>\n",
       "      <td>3.000000</td>\n",
       "      <td>...</td>\n",
       "      <td>0.900000</td>\n",
       "      <td>0.000000</td>\n",
       "      <td>0.000000</td>\n",
       "      <td>61.000000</td>\n",
       "      <td>5.930238</td>\n",
       "      <td>10.251308</td>\n",
       "      <td>2018.000000</td>\n",
       "      <td>4.000000</td>\n",
       "      <td>0.314068</td>\n",
       "      <td>0.507070</td>\n",
       "    </tr>\n",
       "    <tr>\n",
       "      <th>50%</th>\n",
       "      <td>2020-06-29 12:00:00</td>\n",
       "      <td>51.000000</td>\n",
       "      <td>76.000000</td>\n",
       "      <td>10.450000</td>\n",
       "      <td>7.500000</td>\n",
       "      <td>0.100000</td>\n",
       "      <td>0.000000</td>\n",
       "      <td>7.742596</td>\n",
       "      <td>12.260843</td>\n",
       "      <td>51.000000</td>\n",
       "      <td>...</td>\n",
       "      <td>9.800000</td>\n",
       "      <td>0.000000</td>\n",
       "      <td>0.050000</td>\n",
       "      <td>71.000000</td>\n",
       "      <td>9.055497</td>\n",
       "      <td>12.199919</td>\n",
       "      <td>2020.000000</td>\n",
       "      <td>7.000000</td>\n",
       "      <td>0.681891</td>\n",
       "      <td>0.828543</td>\n",
       "    </tr>\n",
       "    <tr>\n",
       "      <th>75%</th>\n",
       "      <td>2022-12-22 06:00:00</td>\n",
       "      <td>53.000000</td>\n",
       "      <td>85.000000</td>\n",
       "      <td>17.300000</td>\n",
       "      <td>15.800000</td>\n",
       "      <td>1.600000</td>\n",
       "      <td>0.000000</td>\n",
       "      <td>11.681859</td>\n",
       "      <td>15.227441</td>\n",
       "      <td>61.000000</td>\n",
       "      <td>...</td>\n",
       "      <td>21.200000</td>\n",
       "      <td>0.000000</td>\n",
       "      <td>2.800000</td>\n",
       "      <td>82.000000</td>\n",
       "      <td>11.512942</td>\n",
       "      <td>14.116317</td>\n",
       "      <td>2022.000000</td>\n",
       "      <td>10.000000</td>\n",
       "      <td>0.855926</td>\n",
       "      <td>0.904786</td>\n",
       "    </tr>\n",
       "    <tr>\n",
       "      <th>max</th>\n",
       "      <td>2025-06-15 00:00:00</td>\n",
       "      <td>75.000000</td>\n",
       "      <td>99.000000</td>\n",
       "      <td>30.000000</td>\n",
       "      <td>29.900000</td>\n",
       "      <td>107.000000</td>\n",
       "      <td>10.500000</td>\n",
       "      <td>15.440569</td>\n",
       "      <td>16.840067</td>\n",
       "      <td>75.000000</td>\n",
       "      <td>...</td>\n",
       "      <td>35.000000</td>\n",
       "      <td>30.730000</td>\n",
       "      <td>106.200000</td>\n",
       "      <td>100.000000</td>\n",
       "      <td>14.000000</td>\n",
       "      <td>15.088556</td>\n",
       "      <td>2025.000000</td>\n",
       "      <td>12.000000</td>\n",
       "      <td>0.920463</td>\n",
       "      <td>0.933679</td>\n",
       "    </tr>\n",
       "    <tr>\n",
       "      <th>std</th>\n",
       "      <td>NaN</td>\n",
       "      <td>27.154736</td>\n",
       "      <td>13.175797</td>\n",
       "      <td>7.662755</td>\n",
       "      <td>9.107074</td>\n",
       "      <td>3.657435</td>\n",
       "      <td>0.389847</td>\n",
       "      <td>4.787672</td>\n",
       "      <td>3.114575</td>\n",
       "      <td>28.376388</td>\n",
       "      <td>...</td>\n",
       "      <td>11.784433</td>\n",
       "      <td>1.299204</td>\n",
       "      <td>7.551140</td>\n",
       "      <td>13.444685</td>\n",
       "      <td>4.140845</td>\n",
       "      <td>1.996175</td>\n",
       "      <td>2.893447</td>\n",
       "      <td>3.462832</td>\n",
       "      <td>0.318575</td>\n",
       "      <td>0.309464</td>\n",
       "    </tr>\n",
       "  </tbody>\n",
       "</table>\n",
       "<p>8 rows × 21 columns</p>\n",
       "</div>"
      ],
      "text/plain": [
       "                       day  weather_code_berlin  humidity_berlin  \\\n",
       "count                 3624          3624.000000      3624.000000   \n",
       "mean   2020-06-29 12:00:00            34.078642        74.469647   \n",
       "min    2015-07-15 00:00:00             0.000000        34.000000   \n",
       "25%    2018-01-05 18:00:00             3.000000        65.000000   \n",
       "50%    2020-06-29 12:00:00            51.000000        76.000000   \n",
       "75%    2022-12-22 06:00:00            53.000000        85.000000   \n",
       "max    2025-06-15 00:00:00            75.000000        99.000000   \n",
       "std                    NaN            27.154736        13.175797   \n",
       "\n",
       "       temperature_berlin  feels_like_berlin  rain_berlin  snowfall_berlin  \\\n",
       "count         3624.000000        3624.000000  3624.000000      3624.000000   \n",
       "mean            10.905684           8.254939     1.550938         0.066446   \n",
       "min            -10.200000         -15.500000     0.000000         0.000000   \n",
       "25%              4.900000           0.800000     0.000000         0.000000   \n",
       "50%             10.450000           7.500000     0.100000         0.000000   \n",
       "75%             17.300000          15.800000     1.600000         0.000000   \n",
       "max             30.000000          29.900000   107.000000        10.500000   \n",
       "std              7.662755           9.107074     3.657435         0.389847   \n",
       "\n",
       "       sunshine_hours_berlin  daylight_hours_berlin  weather_code_brooklyn  \\\n",
       "count            3624.000000            3624.000000            3624.000000   \n",
       "mean                7.445771              12.246242              31.838852   \n",
       "min                 0.000000               7.643347               0.000000   \n",
       "25%                 3.306301               9.265566               3.000000   \n",
       "50%                 7.742596              12.260843              51.000000   \n",
       "75%                11.681859              15.227441              61.000000   \n",
       "max                15.440569              16.840067              75.000000   \n",
       "std                 4.787672               3.114575              28.376388   \n",
       "\n",
       "       ...  feels_like_brooklyn  snowfall_brooklyn  rain_brooklyn  \\\n",
       "count  ...          3624.000000        3624.000000    3624.000000   \n",
       "mean   ...            10.564487           0.147746       3.259354   \n",
       "min    ...           -21.500000           0.000000       0.000000   \n",
       "25%    ...             0.900000           0.000000       0.000000   \n",
       "50%    ...             9.800000           0.000000       0.050000   \n",
       "75%    ...            21.200000           0.000000       2.800000   \n",
       "max    ...            35.000000          30.730000     106.200000   \n",
       "std    ...            11.784433           1.299204       7.551140   \n",
       "\n",
       "       humidity_brooklyn  sunshine_hours_brooklyn  daylight_hours_brooklyn  \\\n",
       "count        3624.000000              3624.000000              3624.000000   \n",
       "mean           70.944536                 8.268529                12.182565   \n",
       "min            31.000000                 0.000000                 9.255797   \n",
       "25%            61.000000                 5.930238                10.251308   \n",
       "50%            71.000000                 9.055497                12.199919   \n",
       "75%            82.000000                11.512942                14.116317   \n",
       "max           100.000000                14.000000                15.088556   \n",
       "std            13.444685                 4.140845                 1.996175   \n",
       "\n",
       "              year    month_num  sun_ratio_berlin  sun_ratio_brooklyn  \n",
       "count  3624.000000  3624.000000       3624.000000         3624.000000  \n",
       "mean   2019.994481     6.522627          0.570932            0.671073  \n",
       "min    2015.000000     1.000000          0.000000            0.000000  \n",
       "25%    2018.000000     4.000000          0.314068            0.507070  \n",
       "50%    2020.000000     7.000000          0.681891            0.828543  \n",
       "75%    2022.000000    10.000000          0.855926            0.904786  \n",
       "max    2025.000000    12.000000          0.920463            0.933679  \n",
       "std       2.893447     3.462832          0.318575            0.309464  \n",
       "\n",
       "[8 rows x 21 columns]"
      ]
     },
     "execution_count": 99,
     "metadata": {},
     "output_type": "execute_result"
    }
   ],
   "source": [
    "# Max Temp Brooklyn\n",
    "merged.describe()"
   ]
  },
  {
   "cell_type": "code",
   "execution_count": 100,
   "id": "db7d1c53-7513-4c14-913a-45849d2837d6",
   "metadata": {},
   "outputs": [],
   "source": [
    "weekends = recent[recent['is_weekend'] == True]\n",
    "weekends.to_csv('processed/weekend.csv', index=True)"
   ]
  },
  {
   "cell_type": "code",
   "execution_count": 101,
   "id": "8d4bf35f-7445-46c2-b764-04355009d04c",
   "metadata": {},
   "outputs": [],
   "source": [
    "# rainy days per month -- makes no sense because of snow\n",
    "\n",
    "merged['rain_day_berlin'] = merged['rain_berlin'] >= 1"
   ]
  },
  {
   "cell_type": "code",
   "execution_count": 102,
   "id": "1e9539d1-4755-482a-a43d-e1fbed1a77e0",
   "metadata": {},
   "outputs": [],
   "source": [
    "merged['rain_day_brooklyn'] = merged['rain_brooklyn'] >= 1"
   ]
  },
  {
   "cell_type": "code",
   "execution_count": null,
   "id": "e9007ddc-3b74-4db9-81ef-18030fd6c4f9",
   "metadata": {},
   "outputs": [],
   "source": []
  }
 ],
 "metadata": {
  "kernelspec": {
   "display_name": "Python 3 (ipykernel)",
   "language": "python",
   "name": "python3"
  },
  "language_info": {
   "codemirror_mode": {
    "name": "ipython",
    "version": 3
   },
   "file_extension": ".py",
   "mimetype": "text/x-python",
   "name": "python",
   "nbconvert_exporter": "python",
   "pygments_lexer": "ipython3",
   "version": "3.12.8"
  }
 },
 "nbformat": 4,
 "nbformat_minor": 5
}
